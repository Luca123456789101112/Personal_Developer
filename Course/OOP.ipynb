{
 "cells": [
  {
   "cell_type": "code",
   "execution_count": 1,
   "id": "15268bce",
   "metadata": {},
   "outputs": [],
   "source": [
    "mylist = [1,2,3]"
   ]
  },
  {
   "cell_type": "code",
   "execution_count": 2,
   "id": "8ba51e31",
   "metadata": {},
   "outputs": [],
   "source": [
    "myset = set()"
   ]
  },
  {
   "cell_type": "code",
   "execution_count": 4,
   "id": "bd4d26e2",
   "metadata": {},
   "outputs": [],
   "source": [
    "myset.add(1)"
   ]
  },
  {
   "cell_type": "code",
   "execution_count": 6,
   "id": "7758bdb3",
   "metadata": {},
   "outputs": [
    {
     "data": {
      "text/plain": [
       "{1}"
      ]
     },
     "execution_count": 6,
     "metadata": {},
     "output_type": "execute_result"
    }
   ],
   "source": [
    "myset"
   ]
  },
  {
   "cell_type": "code",
   "execution_count": 16,
   "id": "c4eda0c3",
   "metadata": {},
   "outputs": [],
   "source": [
    "class Verduleria():\n",
    "    \n",
    "    kingdom = \"vegetal\"\n",
    "    \n",
    "    def __init__(self,frutas,verduras):\n",
    "        \n",
    "        self.frutas = frutas\n",
    "        self.verduras = verduras\n",
    "        \n",
    "    def sell(self):\n",
    "        print(f\"Gracias por comprar {self.frutas} y {self.verduras}\")"
   ]
  },
  {
   "cell_type": "code",
   "execution_count": 18,
   "id": "2d8c3c8c",
   "metadata": {},
   "outputs": [
    {
     "name": "stdout",
     "output_type": "stream",
     "text": [
      "Que frutas hay: banana, manzana, pelon y ciruela\n",
      "Que verduras hay: lechuga, tomate, cebolla y ajo\n"
     ]
    }
   ],
   "source": [
    "verduleria = Verduleria(frutas=input(\"Que frutas hay: \"), verduras= input(\"Que verduras hay: \"))"
   ]
  },
  {
   "cell_type": "code",
   "execution_count": 19,
   "id": "c0ebcd73",
   "metadata": {},
   "outputs": [
    {
     "data": {
      "text/plain": [
       "'lechuga, tomate, cebolla y ajo'"
      ]
     },
     "execution_count": 19,
     "metadata": {},
     "output_type": "execute_result"
    }
   ],
   "source": [
    "verduleria.verduras"
   ]
  },
  {
   "cell_type": "code",
   "execution_count": 20,
   "id": "a0921a6e",
   "metadata": {},
   "outputs": [
    {
     "name": "stdout",
     "output_type": "stream",
     "text": [
      "Gracias por comprar banana, manzana, pelon y ciruela y lechuga, tomate, cebolla y ajo\n"
     ]
    }
   ],
   "source": [
    "verduleria.sell()"
   ]
  },
  {
   "cell_type": "code",
   "execution_count": null,
   "id": "57837b9a",
   "metadata": {},
   "outputs": [],
   "source": []
  },
  {
   "cell_type": "code",
   "execution_count": null,
   "id": "3d917268",
   "metadata": {},
   "outputs": [],
   "source": []
  },
  {
   "cell_type": "code",
   "execution_count": 21,
   "id": "a1b768bb",
   "metadata": {},
   "outputs": [],
   "source": [
    "class Circle():\n",
    "    \n",
    "    pi = 3.14\n",
    "    \n",
    "    def __init__(self,radius=1):\n",
    "        \n",
    "        self.radius = radius\n",
    "        \n",
    "    def get_circumference(self):\n",
    "        return self.radius *self.pi *2"
   ]
  },
  {
   "cell_type": "code",
   "execution_count": 22,
   "id": "e8cc76d5",
   "metadata": {},
   "outputs": [],
   "source": [
    "mycircle = Circle()"
   ]
  },
  {
   "cell_type": "code",
   "execution_count": 23,
   "id": "bf23e072",
   "metadata": {},
   "outputs": [
    {
     "data": {
      "text/plain": [
       "6.28"
      ]
     },
     "execution_count": 23,
     "metadata": {},
     "output_type": "execute_result"
    }
   ],
   "source": [
    "mycircle.get_circumference()"
   ]
  },
  {
   "cell_type": "code",
   "execution_count": 26,
   "id": "3a936e60",
   "metadata": {},
   "outputs": [],
   "source": [
    "class Animal():\n",
    "    \n",
    "    def __init__(self):\n",
    "        print(\"Animal created\")\n",
    "        \n",
    "    def who_am_I(self):\n",
    "        print(\"Im an animal\")\n",
    "    def eat(self):\n",
    "        print(\"Im eating\")"
   ]
  },
  {
   "cell_type": "code",
   "execution_count": 27,
   "id": "572a2f5b",
   "metadata": {},
   "outputs": [
    {
     "name": "stdout",
     "output_type": "stream",
     "text": [
      "Animal created\n"
     ]
    }
   ],
   "source": [
    "myanimal=Animal()"
   ]
  },
  {
   "cell_type": "code",
   "execution_count": 33,
   "id": "b2cca6d3",
   "metadata": {},
   "outputs": [],
   "source": [
    "class Dog(Animal):\n",
    "    def __init__(self):\n",
    "        Animal.__init__(self)\n",
    "        print(\"dog created\")"
   ]
  },
  {
   "cell_type": "code",
   "execution_count": 34,
   "id": "e46fc9dc",
   "metadata": {},
   "outputs": [
    {
     "name": "stdout",
     "output_type": "stream",
     "text": [
      "Animal created\n",
      "dog created\n"
     ]
    }
   ],
   "source": [
    "mydog = Dog()"
   ]
  },
  {
   "cell_type": "code",
   "execution_count": 36,
   "id": "8fc86b68",
   "metadata": {},
   "outputs": [
    {
     "name": "stdout",
     "output_type": "stream",
     "text": [
      "Im eating\n"
     ]
    }
   ],
   "source": [
    "mydog.eat()"
   ]
  },
  {
   "cell_type": "code",
   "execution_count": null,
   "id": "2a24de56",
   "metadata": {},
   "outputs": [],
   "source": []
  },
  {
   "cell_type": "code",
   "execution_count": null,
   "id": "114f1bc5",
   "metadata": {},
   "outputs": [],
   "source": []
  },
  {
   "cell_type": "code",
   "execution_count": 37,
   "id": "494141ab",
   "metadata": {},
   "outputs": [],
   "source": [
    "mylist = [1,2,3]"
   ]
  },
  {
   "cell_type": "code",
   "execution_count": 38,
   "id": "83e3feab",
   "metadata": {},
   "outputs": [
    {
     "data": {
      "text/plain": [
       "3"
      ]
     },
     "execution_count": 38,
     "metadata": {},
     "output_type": "execute_result"
    }
   ],
   "source": [
    "len(mylist)"
   ]
  },
  {
   "cell_type": "code",
   "execution_count": 45,
   "id": "62a0af15",
   "metadata": {},
   "outputs": [],
   "source": [
    "class book():\n",
    "    def __init__(self,title,author,pages):\n",
    "        self.title = title\n",
    "        self.author = author\n",
    "        self.pages = pages\n",
    "        \n",
    "    def __str__(self):\n",
    "        return f\"{self.title} by {self.author} and has {self.pages}\"\n",
    "    \n",
    "    def __len__(self):\n",
    "        return self.pages"
   ]
  },
  {
   "cell_type": "code",
   "execution_count": 46,
   "id": "bd3e6b60",
   "metadata": {},
   "outputs": [],
   "source": [
    "b = book(title = \"el viaje de josesitoi\", author=\"jose\", pages=\"500 pages\")"
   ]
  },
  {
   "cell_type": "code",
   "execution_count": 47,
   "id": "1ed5c84a",
   "metadata": {},
   "outputs": [
    {
     "data": {
      "text/plain": [
       "'el viaje de josesitoi by jose and has 500 pages'"
      ]
     },
     "execution_count": 47,
     "metadata": {},
     "output_type": "execute_result"
    }
   ],
   "source": [
    "b.__str__()"
   ]
  },
  {
   "cell_type": "code",
   "execution_count": 49,
   "id": "75dd682b",
   "metadata": {},
   "outputs": [],
   "source": [
    "del b"
   ]
  },
  {
   "cell_type": "code",
   "execution_count": 51,
   "id": "1c96a529",
   "metadata": {},
   "outputs": [],
   "source": [
    "del book"
   ]
  },
  {
   "cell_type": "code",
   "execution_count": 20,
   "id": "04c4023e",
   "metadata": {},
   "outputs": [
    {
     "ename": "SyntaxError",
     "evalue": "invalid syntax (3055961025.py, line 21)",
     "output_type": "error",
     "traceback": [
      "\u001b[1;36m  File \u001b[1;32m\"C:\\Users\\Luca\\AppData\\Local\\Temp\\ipykernel_15704\\3055961025.py\"\u001b[1;36m, line \u001b[1;32m21\u001b[0m\n\u001b[1;33m    if wanted_game = \"Call of duty\":\u001b[0m\n\u001b[1;37m                   ^\u001b[0m\n\u001b[1;31mSyntaxError\u001b[0m\u001b[1;31m:\u001b[0m invalid syntax\n"
     ]
    }
   ],
   "source": [
    "\n",
    "        "
   ]
  },
  {
   "cell_type": "code",
   "execution_count": 5,
   "id": "51d11cb7",
   "metadata": {},
   "outputs": [],
   "source": [
    "from colorama import Fore"
   ]
  },
  {
   "cell_type": "code",
   "execution_count": null,
   "id": "a9fbd2d0",
   "metadata": {},
   "outputs": [],
   "source": []
  },
  {
   "cell_type": "code",
   "execution_count": null,
   "id": "a3c07c22",
   "metadata": {},
   "outputs": [],
   "source": []
  },
  {
   "cell_type": "code",
   "execution_count": 8,
   "id": "8894b947",
   "metadata": {},
   "outputs": [
    {
     "name": "stdout",
     "output_type": "stream",
     "text": [
      "Enter your user name: ReyDeCopas08\n"
     ]
    }
   ],
   "source": [
    "class Account:\n",
    "\n",
    "    def __init__(self, games=[\"Call of Duty\", \"Fortnite\", \"Poppy Playtime 3\"],prices=[75, 5, 100], balance=0, name=input(\"Enter your user name: \"),game_list=[]):\n",
    "        self.games = games\n",
    "        self.balance=balance\n",
    "        self.name=name\n",
    "        self.prices=prices\n",
    "        self.game_list=game_list\n",
    "    \n",
    "    def __str__(self):\n",
    "        return f\"Account owner: {self.name} ; Your games: {self.game_list} ; Your balance: {self.balance}\"\n",
    "    \n",
    "    def deposit(self):\n",
    "        deposit_value = 0\n",
    "        while deposit_value not in range(1, 201):\n",
    "            deposit_value = int(input(\"Please enter the money you want to deposit: (min 2$, max 200$) \"))\n",
    "        self.balance += deposit_value\n",
    "        return f\"Your actual balance is {self.balance}\"\n",
    "        \n",
    "    \n",
    "    def buy_game(self):\n",
    "        wanted_game = \" \"\n",
    "        while wanted_game not in self.games:\n",
    "            wanted_game= input(\"Want game do you want? Fortnite:5$, Call of Duty:75$ or Poppy Playtime 3: $100 \")\n",
    "            \n",
    "        if  wanted_game == \"Fortnite\" and self.balance > self.prices[1] and \"Fortnite\" not in self.game_list:\n",
    "            self.game_list.append(\"Fortnite\")\n",
    "            self.games.remove(\"Fortnite\")\n",
    "            self.balance -= self.prices[1]\n",
    "            return f\"You bought Fortnite!!! ; Your actual balance is {self.balance} ; Your actual gamelist is {self.game_list}\"\n",
    "        \n",
    "        \n",
    "        if  wanted_game == \"Call of Duty\" and self.balance > self.prices[0] and \"Call of Duty\" not in self.game_list:\n",
    "            self.game_list.append(\"Call of Duty\")\n",
    "            self.games.remove(\"Call of Duty\")\n",
    "            self.balance -= self.prices[0]\n",
    "            return f\"You bought Call of Duty!!! ; Your actual balance is {self.balance} ; Your actual gamelist is {self.game_list}\"\n",
    "        else:\n",
    "            return \"Ups!, something went wrong\"\n",
    "        \n",
    "        if  wanted_game == \"Poppy Playtime 3\" and self.balance > self.prices[2]  and \"Poppy Playtime 3\" not in self.game_list:\n",
    "            self.game_list.append(\"Poppy Playtime 3\")\n",
    "            self.games.remove(\"Poppy Playtime 3\")\n",
    "            self.balance -= self.prices[2]\n",
    "            return f\"You bought Poppy Playtime 3!!! ; Your actual balance is {self.balance} ; Your actual gamelist is {self.game_list}\"\n",
    "        else: \n",
    "            return \"Ups!, something went wrong\""
   ]
  },
  {
   "cell_type": "code",
   "execution_count": 9,
   "id": "f2d91130",
   "metadata": {},
   "outputs": [],
   "source": [
    "game_account = Account() "
   ]
  },
  {
   "cell_type": "code",
   "execution_count": 5,
   "id": "9f444bd6",
   "metadata": {},
   "outputs": [
    {
     "name": "stdout",
     "output_type": "stream",
     "text": [
      "Please enter the money you want to deposit: (min 2$, max 200$) \n"
     ]
    },
    {
     "ename": "ValueError",
     "evalue": "invalid literal for int() with base 10: ''",
     "output_type": "error",
     "traceback": [
      "\u001b[1;31m---------------------------------------------------------------------------\u001b[0m",
      "\u001b[1;31mValueError\u001b[0m                                Traceback (most recent call last)",
      "\u001b[1;32m~\\AppData\\Local\\Temp\\ipykernel_34856\\1690012895.py\u001b[0m in \u001b[0;36m<module>\u001b[1;34m\u001b[0m\n\u001b[1;32m----> 1\u001b[1;33m \u001b[0mgame_account\u001b[0m\u001b[1;33m.\u001b[0m\u001b[0mdeposit\u001b[0m\u001b[1;33m(\u001b[0m\u001b[1;33m)\u001b[0m\u001b[1;33m\u001b[0m\u001b[1;33m\u001b[0m\u001b[0m\n\u001b[0m",
      "\u001b[1;32m~\\AppData\\Local\\Temp\\ipykernel_34856\\3804154034.py\u001b[0m in \u001b[0;36mdeposit\u001b[1;34m(self)\u001b[0m\n\u001b[0;32m     14\u001b[0m         \u001b[0mdeposit_value\u001b[0m \u001b[1;33m=\u001b[0m \u001b[1;36m0\u001b[0m\u001b[1;33m\u001b[0m\u001b[1;33m\u001b[0m\u001b[0m\n\u001b[0;32m     15\u001b[0m         \u001b[1;32mwhile\u001b[0m \u001b[0mdeposit_value\u001b[0m \u001b[1;32mnot\u001b[0m \u001b[1;32min\u001b[0m \u001b[0mrange\u001b[0m\u001b[1;33m(\u001b[0m\u001b[1;36m1\u001b[0m\u001b[1;33m,\u001b[0m \u001b[1;36m201\u001b[0m\u001b[1;33m)\u001b[0m\u001b[1;33m:\u001b[0m\u001b[1;33m\u001b[0m\u001b[1;33m\u001b[0m\u001b[0m\n\u001b[1;32m---> 16\u001b[1;33m             \u001b[0mdeposit_value\u001b[0m \u001b[1;33m=\u001b[0m \u001b[0mint\u001b[0m\u001b[1;33m(\u001b[0m\u001b[0minput\u001b[0m\u001b[1;33m(\u001b[0m\u001b[1;34m\"Please enter the money you want to deposit: (min 2$, max 200$) \"\u001b[0m\u001b[1;33m)\u001b[0m\u001b[1;33m)\u001b[0m\u001b[1;33m\u001b[0m\u001b[1;33m\u001b[0m\u001b[0m\n\u001b[0m\u001b[0;32m     17\u001b[0m         \u001b[0mself\u001b[0m\u001b[1;33m.\u001b[0m\u001b[0mbalance\u001b[0m \u001b[1;33m+=\u001b[0m \u001b[0mdeposit_value\u001b[0m\u001b[1;33m\u001b[0m\u001b[1;33m\u001b[0m\u001b[0m\n\u001b[0;32m     18\u001b[0m         \u001b[1;32mreturn\u001b[0m \u001b[1;34mf\"Your actual balance is {self.balance}\"\u001b[0m\u001b[1;33m\u001b[0m\u001b[1;33m\u001b[0m\u001b[0m\n",
      "\u001b[1;31mValueError\u001b[0m: invalid literal for int() with base 10: ''"
     ]
    }
   ],
   "source": [
    "game_account.deposit()"
   ]
  },
  {
   "cell_type": "code",
   "execution_count": 6,
   "id": "57b884dc",
   "metadata": {},
   "outputs": [
    {
     "name": "stdout",
     "output_type": "stream",
     "text": [
      "Want game do you want? Fortnite:5$, Call of Duty:75$ or Poppy Playtime 3: $100 jsakld\n",
      "Want game do you want? Fortnite:5$, Call of Duty:75$ or Poppy Playtime 3: $100 \n",
      "Want game do you want? Fortnite:5$, Call of Duty:75$ or Poppy Playtime 3: $100 \n",
      "Want game do you want? Fortnite:5$, Call of Duty:75$ or Poppy Playtime 3: $100 \n",
      "Want game do you want? Fortnite:5$, Call of Duty:75$ or Poppy Playtime 3: $100 \n",
      "Want game do you want? Fortnite:5$, Call of Duty:75$ or Poppy Playtime 3: $100 \n",
      "Want game do you want? Fortnite:5$, Call of Duty:75$ or Poppy Playtime 3: $100 \n",
      "Want game do you want? Fortnite:5$, Call of Duty:75$ or Poppy Playtime 3: $100 Poppy Playtime\n",
      "Want game do you want? Fortnite:5$, Call of Duty:75$ or Poppy Playtime 3: $100 Fortnite\n"
     ]
    },
    {
     "data": {
      "text/plain": [
       "'Ups!, something went wrong'"
      ]
     },
     "execution_count": 6,
     "metadata": {},
     "output_type": "execute_result"
    }
   ],
   "source": [
    "game_account.buy_game()"
   ]
  },
  {
   "cell_type": "code",
   "execution_count": 15,
   "id": "2219733e",
   "metadata": {},
   "outputs": [
    {
     "name": "stdout",
     "output_type": "stream",
     "text": [
      "Want game do you want? Fortnite:5$, Call of Duty:75$ or Poppy Playtime 3: $100 Call of Duty\n",
      "Want game do you want? Fortnite:5$, Call of Duty:75$ or Poppy Playtime 3: $100 Call of Duty\n",
      "Want game do you want? Fortnite:5$, Call of Duty:75$ or Poppy Playtime 3: $100 Fortnite\n"
     ]
    },
    {
     "data": {
      "text/plain": [
       "\"You bought Fortnite!!! ; Your actual balance is 20 ; Your actual gamelist is ['Poppy Playtime 3', 'Call of Duty', 'Fortnite']\""
      ]
     },
     "execution_count": 15,
     "metadata": {},
     "output_type": "execute_result"
    }
   ],
   "source": [
    "game_account.buy_game()"
   ]
  },
  {
   "cell_type": "code",
   "execution_count": 16,
   "id": "6d2426fe",
   "metadata": {},
   "outputs": [],
   "source": [
    "from colorama import Fore"
   ]
  },
  {
   "cell_type": "code",
   "execution_count": 17,
   "id": "b2d389f0",
   "metadata": {},
   "outputs": [
    {
     "name": "stdout",
     "output_type": "stream",
     "text": [
      "\u001b[32mHola\n"
     ]
    }
   ],
   "source": [
    "print(Fore.GREEN + \"Hola\")"
   ]
  },
  {
   "cell_type": "code",
   "execution_count": 11,
   "id": "0008a2e8",
   "metadata": {},
   "outputs": [
    {
     "name": "stdout",
     "output_type": "stream",
     "text": [
      "How are you?fine\n",
      "\u001b[32mfine\n"
     ]
    }
   ],
   "source": [
    "print(Fore.GREEN + input(\"How are you?\"))"
   ]
  },
  {
   "cell_type": "code",
   "execution_count": 10,
   "id": "9947d08e",
   "metadata": {},
   "outputs": [
    {
     "name": "stdout",
     "output_type": "stream",
     "text": [
      "Account owner: ReyDeCopas08 ; Your games: [] ; Your balance: 0\n"
     ]
    }
   ],
   "source": [
    "print(game_account)"
   ]
  },
  {
   "cell_type": "code",
   "execution_count": null,
   "id": "f354e954",
   "metadata": {},
   "outputs": [],
   "source": []
  }
 ],
 "metadata": {
  "kernelspec": {
   "display_name": "Python 3 (ipykernel)",
   "language": "python",
   "name": "python3"
  },
  "language_info": {
   "codemirror_mode": {
    "name": "ipython",
    "version": 3
   },
   "file_extension": ".py",
   "mimetype": "text/x-python",
   "name": "python",
   "nbconvert_exporter": "python",
   "pygments_lexer": "ipython3",
   "version": "3.9.13"
  }
 },
 "nbformat": 4,
 "nbformat_minor": 5
}
