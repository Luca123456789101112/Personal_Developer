{
 "cells": [
  {
   "cell_type": "code",
   "execution_count": 1,
   "id": "72ac9fa8",
   "metadata": {},
   "outputs": [],
   "source": [
    "import webbrowser"
   ]
  },
  {
   "cell_type": "code",
   "execution_count": 2,
   "id": "f2bf0666",
   "metadata": {},
   "outputs": [],
   "source": [
    "import numpy as np"
   ]
  },
  {
   "cell_type": "code",
   "execution_count": 24,
   "id": "154d9c7b",
   "metadata": {},
   "outputs": [],
   "source": [
    "def IA_func():\n",
    "    \n",
    "    class IA():\n",
    "        \n",
    "        def __init__(self, d = {\"futbol\":\"https://www.promiedos.com.ar/\", \"handball\":\"https://handballargentina.org/cah/\", \"basket\":\"https://www.laliganacional.com.ar/laliga/\"}):\n",
    "            self.d = d\n",
    "        \n",
    "        def add_things(self):\n",
    "            print(\"\\n\")\n",
    "            \n",
    "            ask=input(\"What do you want to add: \")\n",
    "            \n",
    "            print(\"\\n\")\n",
    "            \n",
    "            print(f\"List update {self.d}\")\n",
    "            \n",
    "            if ask not in self.d:\n",
    "                \n",
    "                print(\"\\n\")\n",
    "                \n",
    "                self.d[ask] = input(\"What web page do you want to add: \")\n",
    "                \n",
    "                print(\"\\n\")\n",
    "                \n",
    "                print(f\"List update {self.d}\")\n",
    "            else:\n",
    "                print(f\"That is already on the list {self.d[ask]}\")\n",
    "            \n",
    "        def open_web(self):\n",
    "            \n",
    "            print(f\"List update {self.d}\")\n",
    "            \n",
    "            print(\"\\n\")\n",
    "            \n",
    "            ask = input(\"What thing of the list do you want to open? \")\n",
    "            \n",
    "            if ask in self.d:\n",
    "                print(f\"This is here: {self.d[ask]}\")\n",
    "                \n",
    "                print(\"\\n\")\n",
    "        \n",
    "                webbrowser.open(self.d[ask])\n",
    "            else:\n",
    "                print(\"No seas estupido\")\n",
    "                \n",
    "    IAI = IA()\n",
    "    \n",
    "    ask = \"\"\n",
    "    \n",
    "    while ask not in [\"yes\"]:\n",
    "        \n",
    "        print(\"\\n\")\n",
    "        ask1 = input(\"What do you want to do (open or add): \")\n",
    "        \n",
    "        if ask1 == \"open\":\n",
    "            IAI.open_web()\n",
    "            \n",
    "        elif ask1==\"add\":\n",
    "            IAI.add_things()\n",
    "        \n",
    "        else: \n",
    "            break\n",
    "        \n",
    "        print(\"\\n\")\n",
    "        ask = input(\"Do you want to stop? \")"
   ]
  },
  {
   "cell_type": "code",
   "execution_count": 25,
   "id": "24ae4aaf",
   "metadata": {},
   "outputs": [],
   "source": [
    "d = {\"k1\":\"hola\"}\n",
    "d[\"k2\"] = \"hola\""
   ]
  },
  {
   "cell_type": "code",
   "execution_count": 26,
   "id": "057302e1",
   "metadata": {},
   "outputs": [
    {
     "data": {
      "text/plain": [
       "'hola'"
      ]
     },
     "execution_count": 26,
     "metadata": {},
     "output_type": "execute_result"
    }
   ],
   "source": [
    "d[\"k2\"]"
   ]
  },
  {
   "cell_type": "code",
   "execution_count": 27,
   "id": "96e2a3f2",
   "metadata": {},
   "outputs": [
    {
     "name": "stdout",
     "output_type": "stream",
     "text": [
      "\n",
      "\n",
      "What do you want to do (open or add): open\n",
      "List update {'futbol': 'https://www.promiedos.com.ar/', 'handball': 'https://handballargentina.org/cah/', 'basket': 'https://www.laliganacional.com.ar/laliga/'}\n",
      "\n",
      "\n",
      "What thing of the list do you want to open? futbol\n",
      "This is here: https://www.promiedos.com.ar/\n",
      "\n",
      "\n",
      "\n",
      "\n",
      "Do you want to stop? yes\n"
     ]
    }
   ],
   "source": [
    "IA_func()"
   ]
  },
  {
   "cell_type": "code",
   "execution_count": null,
   "id": "a4e4a01f",
   "metadata": {},
   "outputs": [],
   "source": []
  }
 ],
 "metadata": {
  "kernelspec": {
   "display_name": "Python 3 (ipykernel)",
   "language": "python",
   "name": "python3"
  },
  "language_info": {
   "codemirror_mode": {
    "name": "ipython",
    "version": 3
   },
   "file_extension": ".py",
   "mimetype": "text/x-python",
   "name": "python",
   "nbconvert_exporter": "python",
   "pygments_lexer": "ipython3",
   "version": "3.9.13"
  }
 },
 "nbformat": 4,
 "nbformat_minor": 5
}
