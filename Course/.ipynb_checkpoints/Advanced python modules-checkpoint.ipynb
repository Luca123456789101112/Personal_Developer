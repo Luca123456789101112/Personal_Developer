{
 "cells": [
  {
   "cell_type": "code",
   "execution_count": 3,
   "id": "94fe9350",
   "metadata": {},
   "outputs": [],
   "source": [
    "#collectinons module"
   ]
  },
  {
   "cell_type": "code",
   "execution_count": 4,
   "id": "2e8362e1",
   "metadata": {},
   "outputs": [],
   "source": [
    "from collections import Counter"
   ]
  },
  {
   "cell_type": "code",
   "execution_count": 5,
   "id": "f750d434",
   "metadata": {},
   "outputs": [],
   "source": [
    "mylist =[1,1,1,1,1,1,2,2,2,2,2,2,2,3,3,3,3,3,3,3,3,3,3,3,3,3]"
   ]
  },
  {
   "cell_type": "code",
   "execution_count": 6,
   "id": "9e1b6179",
   "metadata": {},
   "outputs": [
    {
     "data": {
      "text/plain": [
       "Counter({1: 6, 2: 7, 3: 13})"
      ]
     },
     "execution_count": 6,
     "metadata": {},
     "output_type": "execute_result"
    }
   ],
   "source": [
    "Counter(mylist)"
   ]
  },
  {
   "cell_type": "code",
   "execution_count": 7,
   "id": "bdb15ee7",
   "metadata": {},
   "outputs": [],
   "source": [
    "d = Counter(mylist)"
   ]
  },
  {
   "cell_type": "code",
   "execution_count": 8,
   "id": "1cd45944",
   "metadata": {},
   "outputs": [
    {
     "data": {
      "text/plain": [
       "Counter({1: 6, 2: 7, 3: 13})"
      ]
     },
     "execution_count": 8,
     "metadata": {},
     "output_type": "execute_result"
    }
   ],
   "source": [
    "d"
   ]
  },
  {
   "cell_type": "code",
   "execution_count": 9,
   "id": "a92c5731",
   "metadata": {},
   "outputs": [
    {
     "data": {
      "text/plain": [
       "Counter({'a': 5,\n",
       "         's': 7,\n",
       "         'd': 6,\n",
       "         'h': 6,\n",
       "         'j': 7,\n",
       "         'i': 1,\n",
       "         'g': 2,\n",
       "         'k': 4,\n",
       "         'l': 3,\n",
       "         'f': 4,\n",
       "         'ñ': 1})"
      ]
     },
     "execution_count": 9,
     "metadata": {},
     "output_type": "execute_result"
    }
   ],
   "source": [
    "Counter(\"asdhjasjidghajksdhlasfjlghsdkjñfjhklsdhfkjsdaf\")"
   ]
  },
  {
   "cell_type": "code",
   "execution_count": 10,
   "id": "e0768d66",
   "metadata": {},
   "outputs": [],
   "source": [
    "def count(s):\n",
    "    return Counter(s)"
   ]
  },
  {
   "cell_type": "code",
   "execution_count": 11,
   "id": "76bbbd11",
   "metadata": {},
   "outputs": [
    {
     "data": {
      "text/plain": [
       "Counter({'a': 4})"
      ]
     },
     "execution_count": 11,
     "metadata": {},
     "output_type": "execute_result"
    }
   ],
   "source": [
    "count(\"aaaa\")"
   ]
  },
  {
   "cell_type": "code",
   "execution_count": 12,
   "id": "0cd8b747",
   "metadata": {},
   "outputs": [],
   "source": [
    "c = Counter(\"aaaaaaaabbbbbbbbbbbcccccccdddddd\")"
   ]
  },
  {
   "cell_type": "code",
   "execution_count": 13,
   "id": "ca0c8cfa",
   "metadata": {},
   "outputs": [
    {
     "data": {
      "text/plain": [
       "dict_values([8, 11, 7, 6])"
      ]
     },
     "execution_count": 13,
     "metadata": {},
     "output_type": "execute_result"
    }
   ],
   "source": [
    "c.values()"
   ]
  },
  {
   "cell_type": "code",
   "execution_count": 14,
   "id": "956c0076",
   "metadata": {},
   "outputs": [
    {
     "data": {
      "text/plain": [
       "['a', 'b', 'c', 'd']"
      ]
     },
     "execution_count": 14,
     "metadata": {},
     "output_type": "execute_result"
    }
   ],
   "source": [
    "list(c)"
   ]
  },
  {
   "cell_type": "code",
   "execution_count": 15,
   "id": "886fd0cf",
   "metadata": {},
   "outputs": [],
   "source": [
    "from collections import defaultdict"
   ]
  },
  {
   "cell_type": "code",
   "execution_count": 16,
   "id": "e9a7a3ef",
   "metadata": {},
   "outputs": [],
   "source": [
    "d = {\"a\":10}"
   ]
  },
  {
   "cell_type": "code",
   "execution_count": 17,
   "id": "80d09d1d",
   "metadata": {},
   "outputs": [
    {
     "data": {
      "text/plain": [
       "{'a': 10}"
      ]
     },
     "execution_count": 17,
     "metadata": {},
     "output_type": "execute_result"
    }
   ],
   "source": [
    "d"
   ]
  },
  {
   "cell_type": "code",
   "execution_count": 18,
   "id": "7df7176a",
   "metadata": {},
   "outputs": [
    {
     "data": {
      "text/plain": [
       "10"
      ]
     },
     "execution_count": 18,
     "metadata": {},
     "output_type": "execute_result"
    }
   ],
   "source": [
    "d[\"a\"]"
   ]
  },
  {
   "cell_type": "code",
   "execution_count": 19,
   "id": "12296b11",
   "metadata": {},
   "outputs": [],
   "source": [
    "d = defaultdict(lambda:0)"
   ]
  },
  {
   "cell_type": "code",
   "execution_count": 20,
   "id": "7cacb1b9",
   "metadata": {},
   "outputs": [],
   "source": [
    "d[\"correcty\"] = 100"
   ]
  },
  {
   "cell_type": "code",
   "execution_count": 21,
   "id": "d5510a6a",
   "metadata": {},
   "outputs": [
    {
     "data": {
      "text/plain": [
       "100"
      ]
     },
     "execution_count": 21,
     "metadata": {},
     "output_type": "execute_result"
    }
   ],
   "source": [
    "d[\"correcty\"]"
   ]
  },
  {
   "cell_type": "code",
   "execution_count": 22,
   "id": "c2d1781c",
   "metadata": {},
   "outputs": [],
   "source": [
    "tup = (10,20,30)"
   ]
  },
  {
   "cell_type": "code",
   "execution_count": 23,
   "id": "39e87e79",
   "metadata": {},
   "outputs": [
    {
     "data": {
      "text/plain": [
       "30"
      ]
     },
     "execution_count": 23,
     "metadata": {},
     "output_type": "execute_result"
    }
   ],
   "source": [
    "tup[2]"
   ]
  },
  {
   "cell_type": "code",
   "execution_count": 24,
   "id": "a0da2542",
   "metadata": {},
   "outputs": [],
   "source": [
    "from collections import namedtuple"
   ]
  },
  {
   "cell_type": "code",
   "execution_count": 25,
   "id": "fd17646e",
   "metadata": {},
   "outputs": [],
   "source": [
    "dod = namedtuple(\"Dog\", [\"age\",\"breed\",\"name\"])"
   ]
  },
  {
   "cell_type": "code",
   "execution_count": 26,
   "id": "c85038e4",
   "metadata": {},
   "outputs": [],
   "source": [
    "sammy = dod(age = 5, breed = \"Husky\", name = \"Sam\")"
   ]
  },
  {
   "cell_type": "code",
   "execution_count": 27,
   "id": "10e726e6",
   "metadata": {},
   "outputs": [
    {
     "data": {
      "text/plain": [
       "Dog(age=5, breed='Husky', name='Sam')"
      ]
     },
     "execution_count": 27,
     "metadata": {},
     "output_type": "execute_result"
    }
   ],
   "source": [
    "sammy"
   ]
  },
  {
   "cell_type": "code",
   "execution_count": 28,
   "id": "4b9c4244",
   "metadata": {},
   "outputs": [
    {
     "data": {
      "text/plain": [
       "'C:\\\\Users\\\\Luca\\\\Desktop\\\\Personal\\\\Course'"
      ]
     },
     "execution_count": 28,
     "metadata": {},
     "output_type": "execute_result"
    }
   ],
   "source": [
    "pwd"
   ]
  },
  {
   "cell_type": "code",
   "execution_count": 29,
   "id": "01e3caa5",
   "metadata": {},
   "outputs": [],
   "source": [
    "f = open(\"practice.text\",\"w+\")\n",
    "f.write(\"THIS IS A DASJHDKJASDKJHASKJDH\")\n",
    "f.close()"
   ]
  },
  {
   "cell_type": "code",
   "execution_count": 30,
   "id": "8b0139df",
   "metadata": {},
   "outputs": [],
   "source": [
    "import os"
   ]
  },
  {
   "cell_type": "code",
   "execution_count": 31,
   "id": "df46eb65",
   "metadata": {},
   "outputs": [
    {
     "data": {
      "text/plain": [
       "'C:\\\\Users\\\\Luca\\\\Desktop\\\\Personal\\\\Course'"
      ]
     },
     "execution_count": 31,
     "metadata": {},
     "output_type": "execute_result"
    }
   ],
   "source": [
    "os.getcwd()"
   ]
  },
  {
   "cell_type": "code",
   "execution_count": 32,
   "id": "dfb3bd5b",
   "metadata": {},
   "outputs": [
    {
     "data": {
      "text/plain": [
       "['.ipynb_checkpoints',\n",
       " '1st mileston proyect.ipynb',\n",
       " '2nd mileston proyect.ipynb',\n",
       " 'Advanced python modules.ipynb',\n",
       " 'Decorators.ipynb',\n",
       " 'Errors Handling.ipynb',\n",
       " 'Game.ipynb',\n",
       " 'generators.ipynb',\n",
       " 'Metodos y funciones.ipynb',\n",
       " 'OOP.ipynb',\n",
       " 'practice.text',\n",
       " 'variables.ipynb',\n",
       " 'Warm up 2nd Mileston Proyect.ipynb']"
      ]
     },
     "execution_count": 32,
     "metadata": {},
     "output_type": "execute_result"
    }
   ],
   "source": [
    "os.listdir()"
   ]
  },
  {
   "cell_type": "code",
   "execution_count": 33,
   "id": "165c0dbf",
   "metadata": {},
   "outputs": [],
   "source": [
    "import shutil"
   ]
  },
  {
   "cell_type": "code",
   "execution_count": 34,
   "id": "eaf870c4",
   "metadata": {},
   "outputs": [
    {
     "data": {
      "text/plain": [
       "'C:\\\\Users\\\\Luca\\\\Desktop\\\\Personal\\\\Course'"
      ]
     },
     "execution_count": 34,
     "metadata": {},
     "output_type": "execute_result"
    }
   ],
   "source": [
    "os.getcwd()"
   ]
  },
  {
   "cell_type": "code",
   "execution_count": 35,
   "id": "b2be319f",
   "metadata": {},
   "outputs": [
    {
     "data": {
      "text/plain": [
       "['.ipynb_checkpoints',\n",
       " 'Dash',\n",
       " 'desktop.ini',\n",
       " 'drivers radeon',\n",
       " 'FC 24',\n",
       " 'My Music',\n",
       " 'My Pictures',\n",
       " 'My Videos',\n",
       " 'Sports Interactive',\n",
       " 'steamvr',\n",
       " 'Telltale Games',\n",
       " 'winrar',\n",
       " 'Zoom']"
      ]
     },
     "execution_count": 35,
     "metadata": {},
     "output_type": "execute_result"
    }
   ],
   "source": [
    "os.listdir(\"C:\\\\Users\\\\Luca\\\\Documents\")"
   ]
  },
  {
   "cell_type": "code",
   "execution_count": 36,
   "id": "49cfeddf",
   "metadata": {},
   "outputs": [],
   "source": [
    "import send2trash"
   ]
  },
  {
   "cell_type": "code",
   "execution_count": 37,
   "id": "dcc90a79",
   "metadata": {},
   "outputs": [
    {
     "data": {
      "text/plain": [
       "['.ipynb_checkpoints',\n",
       " '1st mileston proyect.ipynb',\n",
       " '2nd mileston proyect.ipynb',\n",
       " 'Advanced python modules.ipynb',\n",
       " 'Decorators.ipynb',\n",
       " 'Errors Handling.ipynb',\n",
       " 'Game.ipynb',\n",
       " 'generators.ipynb',\n",
       " 'Metodos y funciones.ipynb',\n",
       " 'OOP.ipynb',\n",
       " 'practice.text',\n",
       " 'variables.ipynb',\n",
       " 'Warm up 2nd Mileston Proyect.ipynb']"
      ]
     },
     "execution_count": 37,
     "metadata": {},
     "output_type": "execute_result"
    }
   ],
   "source": [
    "os.listdir()"
   ]
  },
  {
   "cell_type": "code",
   "execution_count": 38,
   "id": "6f8b1ba1",
   "metadata": {},
   "outputs": [
    {
     "ename": "Error",
     "evalue": "Destination path 'C:\\Users\\Luca\\Desktop\\Personal\\Course\\practice.text' already exists",
     "output_type": "error",
     "traceback": [
      "\u001b[1;31m---------------------------------------------------------------------------\u001b[0m",
      "\u001b[1;31mError\u001b[0m                                     Traceback (most recent call last)",
      "\u001b[1;32m~\\AppData\\Local\\Temp\\ipykernel_12768\\1937496704.py\u001b[0m in \u001b[0;36m<module>\u001b[1;34m\u001b[0m\n\u001b[1;32m----> 1\u001b[1;33m \u001b[0mshutil\u001b[0m\u001b[1;33m.\u001b[0m\u001b[0mmove\u001b[0m\u001b[1;33m(\u001b[0m\u001b[1;34m\"C:\\\\Users\\Luca\\Documents\\\\practice.text\"\u001b[0m\u001b[1;33m,\u001b[0m \u001b[0mos\u001b[0m\u001b[1;33m.\u001b[0m\u001b[0mgetcwd\u001b[0m\u001b[1;33m(\u001b[0m\u001b[1;33m)\u001b[0m\u001b[1;33m)\u001b[0m\u001b[1;33m\u001b[0m\u001b[1;33m\u001b[0m\u001b[0m\n\u001b[0m",
      "\u001b[1;32m~\\anaconda3\\lib\\shutil.py\u001b[0m in \u001b[0;36mmove\u001b[1;34m(src, dst, copy_function)\u001b[0m\n\u001b[0;32m    821\u001b[0m \u001b[1;33m\u001b[0m\u001b[0m\n\u001b[0;32m    822\u001b[0m         \u001b[1;32mif\u001b[0m \u001b[0mos\u001b[0m\u001b[1;33m.\u001b[0m\u001b[0mpath\u001b[0m\u001b[1;33m.\u001b[0m\u001b[0mexists\u001b[0m\u001b[1;33m(\u001b[0m\u001b[0mreal_dst\u001b[0m\u001b[1;33m)\u001b[0m\u001b[1;33m:\u001b[0m\u001b[1;33m\u001b[0m\u001b[1;33m\u001b[0m\u001b[0m\n\u001b[1;32m--> 823\u001b[1;33m             \u001b[1;32mraise\u001b[0m \u001b[0mError\u001b[0m\u001b[1;33m(\u001b[0m\u001b[1;34m\"Destination path '%s' already exists\"\u001b[0m \u001b[1;33m%\u001b[0m \u001b[0mreal_dst\u001b[0m\u001b[1;33m)\u001b[0m\u001b[1;33m\u001b[0m\u001b[1;33m\u001b[0m\u001b[0m\n\u001b[0m\u001b[0;32m    824\u001b[0m     \u001b[1;32mtry\u001b[0m\u001b[1;33m:\u001b[0m\u001b[1;33m\u001b[0m\u001b[1;33m\u001b[0m\u001b[0m\n\u001b[0;32m    825\u001b[0m         \u001b[0mos\u001b[0m\u001b[1;33m.\u001b[0m\u001b[0mrename\u001b[0m\u001b[1;33m(\u001b[0m\u001b[0msrc\u001b[0m\u001b[1;33m,\u001b[0m \u001b[0mreal_dst\u001b[0m\u001b[1;33m)\u001b[0m\u001b[1;33m\u001b[0m\u001b[1;33m\u001b[0m\u001b[0m\n",
      "\u001b[1;31mError\u001b[0m: Destination path 'C:\\Users\\Luca\\Desktop\\Personal\\Course\\practice.text' already exists"
     ]
    }
   ],
   "source": [
    "shutil.move(\"C:\\\\Users\\Luca\\Documents\\\\practice.text\", os.getcwd())"
   ]
  },
  {
   "cell_type": "code",
   "execution_count": null,
   "id": "b422bad5",
   "metadata": {},
   "outputs": [],
   "source": [
    "send2trash.send2trash(\"practice.text\")"
   ]
  },
  {
   "cell_type": "code",
   "execution_count": null,
   "id": "e1cf3102",
   "metadata": {},
   "outputs": [],
   "source": [
    "file_path = 'C:\\\\Users\\\\Luca\\\\Documents'\n",
    "\n",
    "for folder,sub_folders,files in os.walk(file_path):\n",
    "    print(f\"Currently looking at {folder}\")\n",
    "    print(\"\\n\")\n",
    "    print(\"The subfolders are: \")\n",
    "    for sub_folder in sub_folders:\n",
    "        print(f\"Subfolder: {sub_folder}\")\n",
    "    \n",
    "    print(\"\\n\")\n",
    "    print(\"the files are\")\n",
    "    for f in files:\n",
    "        print(f\"\\t File: {f}\")\n",
    "    print(\"\\n\")"
   ]
  },
  {
   "cell_type": "code",
   "execution_count": 40,
   "id": "79016444",
   "metadata": {},
   "outputs": [
    {
     "data": {
      "text/plain": [
       "type"
      ]
     },
     "execution_count": 40,
     "metadata": {},
     "output_type": "execute_result"
    }
   ],
   "source": [
    "def create_class(name, type):"
   ]
  },
  {
   "cell_type": "code",
   "execution_count": null,
   "id": "0fe5f971",
   "metadata": {},
   "outputs": [],
   "source": []
  }
 ],
 "metadata": {
  "kernelspec": {
   "display_name": "Python 3 (ipykernel)",
   "language": "python",
   "name": "python3"
  },
  "language_info": {
   "codemirror_mode": {
    "name": "ipython",
    "version": 3
   },
   "file_extension": ".py",
   "mimetype": "text/x-python",
   "name": "python",
   "nbconvert_exporter": "python",
   "pygments_lexer": "ipython3",
   "version": "3.9.13"
  }
 },
 "nbformat": 4,
 "nbformat_minor": 5
}
