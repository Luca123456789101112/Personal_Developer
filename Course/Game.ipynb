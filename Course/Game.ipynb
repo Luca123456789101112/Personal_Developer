{
 "cells": [
  {
   "cell_type": "code",
   "execution_count": 4,
   "id": "db439473",
   "metadata": {},
   "outputs": [],
   "source": [
    "from random import shuffle"
   ]
  },
  {
   "cell_type": "code",
   "execution_count": 5,
   "id": "e66c3432",
   "metadata": {},
   "outputs": [],
   "source": [
    "def shuffle_list(mylist):\n",
    "    shuffle(mylist)\n",
    "    return mylist"
   ]
  },
  {
   "cell_type": "code",
   "execution_count": null,
   "id": "4e6ff47e",
   "metadata": {},
   "outputs": [],
   "source": []
  },
  {
   "cell_type": "code",
   "execution_count": 6,
   "id": "e1bbf6a5",
   "metadata": {},
   "outputs": [],
   "source": [
    "def player_guess():\n",
    "    \n",
    "    guess=\"\"\n",
    "    \n",
    "    while guess not in [\"0\",\"1\",\"2\"]:\n",
    "         guess = input(\"Pick a numeber: 0,1 or 2 \")\n",
    "    \n",
    "    return int(guess)"
   ]
  },
  {
   "cell_type": "code",
   "execution_count": 7,
   "id": "4324239a",
   "metadata": {},
   "outputs": [],
   "source": [
    "def check_guess(mylist,guess):\n",
    "    if mylist[guess] == \"O\":\n",
    "        print(\"Correct!\")\n",
    "    else:\n",
    "        print(\"Wrong!\")\n",
    "        print(mylist)"
   ]
  },
  {
   "cell_type": "code",
   "execution_count": null,
   "id": "51d3b18f",
   "metadata": {},
   "outputs": [],
   "source": []
  },
  {
   "cell_type": "code",
   "execution_count": null,
   "id": "e11de6b0",
   "metadata": {},
   "outputs": [],
   "source": []
  },
  {
   "cell_type": "markdown",
   "id": "845f5457",
   "metadata": {},
   "source": [
    "mylist"
   ]
  },
  {
   "cell_type": "code",
   "execution_count": null,
   "id": "175f9919",
   "metadata": {},
   "outputs": [],
   "source": []
  },
  {
   "cell_type": "code",
   "execution_count": 8,
   "id": "39af9899",
   "metadata": {},
   "outputs": [
    {
     "name": "stdout",
     "output_type": "stream",
     "text": [
      "Pick a numeber: 0,1 or 2 2\n",
      "Wrong!\n",
      "['O', ' ', ' ']\n"
     ]
    }
   ],
   "source": [
    "mylist = [\" \", \"O\", \" \"]\n",
    "\n",
    "shuffle_list(mylist)\n",
    "\n",
    "guess = player_guess()\n",
    "\n",
    "check_guess(mylist, guess)"
   ]
  },
  {
   "cell_type": "code",
   "execution_count": 9,
   "id": "f8437495",
   "metadata": {},
   "outputs": [
    {
     "data": {
      "text/plain": [
       "2"
      ]
     },
     "execution_count": 9,
     "metadata": {},
     "output_type": "execute_result"
    }
   ],
   "source": [
    "guess"
   ]
  },
  {
   "cell_type": "code",
   "execution_count": 10,
   "id": "d63e85b8",
   "metadata": {},
   "outputs": [
    {
     "ename": "NameError",
     "evalue": "name 'num' is not defined",
     "output_type": "error",
     "traceback": [
      "\u001b[1;31m---------------------------------------------------------------------------\u001b[0m",
      "\u001b[1;31mNameError\u001b[0m                                 Traceback (most recent call last)",
      "\u001b[1;32m~\\AppData\\Local\\Temp\\ipykernel_3760\\231934671.py\u001b[0m in \u001b[0;36m<module>\u001b[1;34m\u001b[0m\n\u001b[1;32m----> 1\u001b[1;33m \u001b[0mint\u001b[0m\u001b[1;33m(\u001b[0m\u001b[0mnum\u001b[0m\u001b[1;33m)\u001b[0m\u001b[1;33m\u001b[0m\u001b[1;33m\u001b[0m\u001b[0m\n\u001b[0m",
      "\u001b[1;31mNameError\u001b[0m: name 'num' is not defined"
     ]
    }
   ],
   "source": [
    "int(num)"
   ]
  },
  {
   "cell_type": "code",
   "execution_count": null,
   "id": "3362dbb0",
   "metadata": {},
   "outputs": [],
   "source": [
    "def shuffle_cards(mylist):\n",
    "    shuffle(mylist)\n",
    "    return mylist"
   ]
  },
  {
   "cell_type": "code",
   "execution_count": null,
   "id": "68645d3a",
   "metadata": {},
   "outputs": [],
   "source": [
    "def player_card():\n",
    "    \n",
    "    card = \"\"\n",
    "    \n",
    "    while card not in [\"1\",\"2\",\"3\",\"4\",\"5\",\"6\",\"7\",\"8\",\"9\",\"10\"]:\n",
    "        card = input(\"Pick your card in numbers 0 to 9, if your card is greater than the 3 basto you won, if not, you lose, the card that you pick is...  \")\n",
    "    \n",
    "    return int(card)"
   ]
  },
  {
   "cell_type": "code",
   "execution_count": null,
   "id": "373851ef",
   "metadata": {},
   "outputs": [],
   "source": [
    "def guess_player_card(mylist,card,mydict):\n",
    "    if mylist[card-1] == \"card10\" or mylist[card-1] == \"card9\" or mylist[card-1] == \"card8\" or mylist[card-1] == \"card7\" or mylist[card-1] == \"card6\" or mylist[card-1] == \"card5\":\n",
    "        print(\"YOU LOST\")\n",
    "    else:\n",
    "        print(\"YOU WON\")"
   ]
  },
  {
   "cell_type": "code",
   "execution_count": null,
   "id": "91653f1c",
   "metadata": {},
   "outputs": [],
   "source": [
    "mydict = {\"card1\": \" 1 de espada\", \"card2\": \"1 de basto\", \"card3\" :  \"7 de espada\", \"card4\":\"3 de basto\", \"card5\": \"2 de espada\", \"card6\": \"2 de oro\", \"card7\": \" 1 de oro\", \"card8\": \"11 de oro\", \"card9\": \"10 de copas\", \"card10\": \"4 de copa \"}"
   ]
  },
  {
   "cell_type": "code",
   "execution_count": null,
   "id": "45ded74a",
   "metadata": {},
   "outputs": [],
   "source": [
    "mylist= [x for x in mydict]"
   ]
  },
  {
   "cell_type": "code",
   "execution_count": null,
   "id": "599b92be",
   "metadata": {},
   "outputs": [],
   "source": [
    "mylist"
   ]
  },
  {
   "cell_type": "code",
   "execution_count": null,
   "id": "e7811b60",
   "metadata": {},
   "outputs": [],
   "source": [
    "mydict"
   ]
  },
  {
   "cell_type": "code",
   "execution_count": null,
   "id": "a8da1014",
   "metadata": {},
   "outputs": [],
   "source": [
    "shuffle_cards(mylist)   "
   ]
  },
  {
   "cell_type": "code",
   "execution_count": null,
   "id": "975e1c6f",
   "metadata": {},
   "outputs": [],
   "source": [
    "mylist"
   ]
  },
  {
   "cell_type": "code",
   "execution_count": null,
   "id": "9015ebde",
   "metadata": {},
   "outputs": [],
   "source": [
    "shuffle_cards(mylist)\n",
    "\n",
    "card = player_card()\n",
    "\n",
    "guess_player_card(mylist,card,mydict)\n",
    "\n",
    "print(\"\")\n",
    "print(\"Las cartas estaban mezcladas asi:\")\n",
    "print(mylist)\n",
    "print(\"\")\n",
    "print(\"Los valores de esas cartas era:\")\n",
    "print(mydict)"
   ]
  },
  {
   "cell_type": "code",
   "execution_count": null,
   "id": "d0896713",
   "metadata": {},
   "outputs": [],
   "source": [
    "def enter_code():\n",
    "    code = input(\"Please define your code \")\n",
    "    \n",
    "    return int(code)"
   ]
  },
  {
   "cell_type": "code",
   "execution_count": null,
   "id": "2673b74c",
   "metadata": {},
   "outputs": [],
   "source": [
    "def check_code(nums):\n",
    "    user_code = input(\"Please enter your code \")\n",
    "    \n",
    "    if int(user_code)==nums:\n",
    "        return \"Welcome home\"\n",
    "    else:\n",
    "        return \"Incorrect code\""
   ]
  },
  {
   "cell_type": "code",
   "execution_count": null,
   "id": "b9384e31",
   "metadata": {},
   "outputs": [],
   "source": [
    "code = enter_code()"
   ]
  },
  {
   "cell_type": "code",
   "execution_count": null,
   "id": "14bee10a",
   "metadata": {},
   "outputs": [],
   "source": [
    "check_code(code)"
   ]
  },
  {
   "cell_type": "code",
   "execution_count": null,
   "id": "ecfce83f",
   "metadata": {},
   "outputs": [],
   "source": [
    "def blackjack():\n",
    "    num1 = randint(1,11)\n",
    "    num2 = randint(1,11)\n",
    "    num3 = randint(1,11)\n",
    "    \n",
    "    totalsum = num1+num2+num3\n",
    "    \n",
    "    if totalsum <= 21:\n",
    "        print(\"Player 1 numbers:\")\n",
    "        print(num1)\n",
    "        print(num2)\n",
    "        print(num3)\n",
    "        print(\"Player 1 total points:\")\n",
    "        print(totalsum)\n",
    "        print(\"\")\n",
    "        return totalsum\n",
    "    if num1 == 11 or num2==11 or num3 == 11 and 21 < totalsum:\n",
    "        print(\"Player 1 numbers:\")\n",
    "        print(num1)\n",
    "        print(num2)\n",
    "        print(num3)\n",
    "        print(\"Player 1 total points:\")\n",
    "        print(totalsum)\n",
    "        print(\"\")\n",
    "        return totalsum - 11\n",
    "    if 21 < totalsum:\n",
    "        print(\"Player 1 numbers:\")\n",
    "        print(num1)\n",
    "        print(num2)\n",
    "        print(num3)\n",
    "        print(\"Player 1 total points:\")\n",
    "        print(totalsum)\n",
    "        print(\"\")\n",
    "        return totalsum"
   ]
  },
  {
   "cell_type": "code",
   "execution_count": null,
   "id": "c5b016be",
   "metadata": {},
   "outputs": [],
   "source": [
    "blackjack(8,7,6)"
   ]
  },
  {
   "cell_type": "code",
   "execution_count": null,
   "id": "432a6f12",
   "metadata": {},
   "outputs": [],
   "source": [
    "from random import randint\n",
    "    \n",
    "    "
   ]
  },
  {
   "cell_type": "code",
   "execution_count": null,
   "id": "44547406",
   "metadata": {},
   "outputs": [],
   "source": [
    "def npc_blackjack():\n",
    "    num1 = randint(1,11)\n",
    "    num2 = randint(1,11)\n",
    "    num3 = randint(1,11)\n",
    "    \n",
    "    totalsum = num1+num2+num3\n",
    "    \n",
    "    if totalsum <= 21:\n",
    "        print(\"Npc numbers:\")\n",
    "        print(num1)\n",
    "        print(num2)\n",
    "        print(num3)\n",
    "        print(\"Npc total points:\")\n",
    "        print(totalsum)\n",
    "        print(\"\")\n",
    "        return totalsum\n",
    "    if num1 == 11 or num2==11 or num3 == 11 and 21 < totalsum:\n",
    "        print(\"Npc numbers:\")\n",
    "        print(num1)\n",
    "        print(num2)\n",
    "        print(num3)\n",
    "        print(\"Npc total points:\")\n",
    "        print(totalsum)\n",
    "        print(\"\")\n",
    "        return totalsum - 11\n",
    "    if 21 < totalsum:\n",
    "        print(\"Npc numbers:\")\n",
    "        print(num1)\n",
    "        print(num2)\n",
    "        print(num3)\n",
    "        print(\"Npc total points:\")\n",
    "        print(totalsum)\n",
    "        print(\"\")\n",
    "        return totalsum\n",
    "    "
   ]
  },
  {
   "cell_type": "code",
   "execution_count": null,
   "id": "3aaea7c4",
   "metadata": {},
   "outputs": [],
   "source": [
    "npc_blackjack()"
   ]
  },
  {
   "cell_type": "code",
   "execution_count": null,
   "id": "25daa9d1",
   "metadata": {},
   "outputs": [],
   "source": [
    "def check_blackjack(p1,p2):\n",
    "    if p1 < p2 and p2 <= 21:\n",
    "        print( \"NPC has won\")\n",
    "    elif p1 < p2:\n",
    "        print(\"NPC has passed from 21, P1 wins\")\n",
    "    if p2 < p1 and p1 <= 21:\n",
    "        print( \"Player 1 has won\")\n",
    "    elif p1 < p2:\n",
    "        print(\"Player 1 has passed from 21, NPC wins\")\n",
    "    "
   ]
  },
  {
   "cell_type": "code",
   "execution_count": 11,
   "id": "0d09b566",
   "metadata": {},
   "outputs": [
    {
     "ename": "NameError",
     "evalue": "name 'blackjack' is not defined",
     "output_type": "error",
     "traceback": [
      "\u001b[1;31m---------------------------------------------------------------------------\u001b[0m",
      "\u001b[1;31mNameError\u001b[0m                                 Traceback (most recent call last)",
      "\u001b[1;32m~\\AppData\\Local\\Temp\\ipykernel_3760\\1744515379.py\u001b[0m in \u001b[0;36m<module>\u001b[1;34m\u001b[0m\n\u001b[1;32m----> 1\u001b[1;33m \u001b[0mp1sum\u001b[0m \u001b[1;33m=\u001b[0m \u001b[0mblackjack\u001b[0m\u001b[1;33m(\u001b[0m\u001b[1;33m)\u001b[0m\u001b[1;33m\u001b[0m\u001b[1;33m\u001b[0m\u001b[0m\n\u001b[0m\u001b[0;32m      2\u001b[0m \u001b[1;33m\u001b[0m\u001b[0m\n\u001b[0;32m      3\u001b[0m \u001b[0mnpcsum\u001b[0m \u001b[1;33m=\u001b[0m \u001b[0mnpc_blackjack\u001b[0m\u001b[1;33m(\u001b[0m\u001b[1;33m)\u001b[0m\u001b[1;33m\u001b[0m\u001b[1;33m\u001b[0m\u001b[0m\n\u001b[0;32m      4\u001b[0m \u001b[1;33m\u001b[0m\u001b[0m\n\u001b[0;32m      5\u001b[0m \u001b[0mcheck_blackjack\u001b[0m\u001b[1;33m(\u001b[0m\u001b[0mp1sum\u001b[0m\u001b[1;33m,\u001b[0m\u001b[0mnpcsum\u001b[0m\u001b[1;33m)\u001b[0m\u001b[1;33m\u001b[0m\u001b[1;33m\u001b[0m\u001b[0m\n",
      "\u001b[1;31mNameError\u001b[0m: name 'blackjack' is not defined"
     ]
    }
   ],
   "source": [
    "p1sum = blackjack()\n",
    "\n",
    "npcsum = npc_blackjack()\n",
    "\n",
    "check_blackjack(p1sum,npcsum)"
   ]
  },
  {
   "cell_type": "code",
   "execution_count": null,
   "id": "88a3b74d",
   "metadata": {},
   "outputs": [],
   "source": [
    "def display():\n",
    "    print(d[\"row1\"])\n",
    "    print(d[\"row2\"])\n",
    "    print(d[\"row3\"])\n",
    "    print(d[\"row4\"])\n",
    "    print(d[\"row5\"])"
   ]
  },
  {
   "cell_type": "code",
   "execution_count": null,
   "id": "7b43f5cd",
   "metadata": {},
   "outputs": [],
   "source": [
    "row1= [\" \"\"|\"\" \"\"|\"\" \"]\n",
    "row2= [\"――――――\"]\n",
    "row3= [\" \"\"|\"\" \"\"|\"\" \"]\n",
    "row4= [\"――――――\"]\n",
    "row5= [\" \"\"|\"\" \"\"|\"\" \"]"
   ]
  },
  {
   "cell_type": "code",
   "execution_count": null,
   "id": "9bf3d27a",
   "metadata": {},
   "outputs": [],
   "source": [
    "display()"
   ]
  },
  {
   "cell_type": "code",
   "execution_count": null,
   "id": "cad993d1",
   "metadata": {},
   "outputs": [],
   "source": [
    "def O_row_input():\n",
    "    \n",
    "    guess = \"\" \n",
    "    \n",
    "    while guess not in [\"row1\",\"row2\",\"row3\"]:\n",
    "        guess = input(\"Enter the row you want, row1, row2 or row3 \")\n",
    "        \n",
    "    return guess      "
   ]
  },
  {
   "cell_type": "code",
   "execution_count": null,
   "id": "7d0feccd",
   "metadata": {},
   "outputs": [],
   "source": [
    "O1 = O_row_input()"
   ]
  },
  {
   "cell_type": "code",
   "execution_count": null,
   "id": "c817a86e",
   "metadata": {},
   "outputs": [],
   "source": [
    "O1"
   ]
  },
  {
   "cell_type": "code",
   "execution_count": null,
   "id": "e14c02bc",
   "metadata": {},
   "outputs": [],
   "source": [
    "def O_check(O):\n",
    "    if O == 2:\n",
    "        O += 1\n",
    "    elif O == 3:\n",
    "            O+=2\n",
    "    return O"
   ]
  },
  {
   "cell_type": "code",
   "execution_count": null,
   "id": "4b61cad9",
   "metadata": {},
   "outputs": [],
   "source": []
  },
  {
   "cell_type": "code",
   "execution_count": null,
   "id": "80e8c6fc",
   "metadata": {},
   "outputs": [],
   "source": []
  },
  {
   "cell_type": "code",
   "execution_count": null,
   "id": "dfea789d",
   "metadata": {},
   "outputs": [],
   "source": []
  },
  {
   "cell_type": "code",
   "execution_count": null,
   "id": "b700e779",
   "metadata": {},
   "outputs": [],
   "source": [
    "def O_position_input():\n",
    "    guess = \"\" \n",
    "    \n",
    "    while guess not in [\"1\",\"2\",\"3\"]:\n",
    "        guess = input(\"Enter the position you want, 1, 2 or 3 \")\n",
    "        \n",
    "    return int(guess)  \n",
    "    "
   ]
  },
  {
   "cell_type": "code",
   "execution_count": null,
   "id": "a5ffe644",
   "metadata": {},
   "outputs": [],
   "source": [
    "O_position_in = O_position_input()\n",
    "O_first_position = O_check(O_position_in)"
   ]
  },
  {
   "cell_type": "code",
   "execution_count": null,
   "id": "424b53c1",
   "metadata": {},
   "outputs": [],
   "source": [
    "def display_update(row,position):\n",
    "    print(row)\n",
    "    "
   ]
  },
  {
   "cell_type": "code",
   "execution_count": null,
   "id": "ab2b9b1a",
   "metadata": {},
   "outputs": [],
   "source": [
    "O"
   ]
  },
  {
   "cell_type": "code",
   "execution_count": null,
   "id": "1675c51f",
   "metadata": {},
   "outputs": [],
   "source": [
    "display_update(O_first_row, O_first_pos)"
   ]
  },
  {
   "cell_type": "code",
   "execution_count": null,
   "id": "025007ab",
   "metadata": {},
   "outputs": [],
   "source": [
    "d = {\"row1\":\" \"\"|\"\" \"\"|\"\" \", \"row2\":\"――――――\", \"row3\": \" \"\"|\"\" \"\"|\"\" \", \"row4\":\"――――――\", \"row5\": \" \"\"|\"\" \"\"|\"\" \"}"
   ]
  },
  {
   "cell_type": "code",
   "execution_count": null,
   "id": "a95ff67b",
   "metadata": {},
   "outputs": [],
   "source": [
    "def O_display_update(row, position):\n",
    "    d[row][position] = \"O\"\n",
    "    return display()"
   ]
  },
  {
   "cell_type": "code",
   "execution_count": null,
   "id": "cf9d1cf7",
   "metadata": {},
   "outputs": [],
   "source": [
    "O1 = O_first_position()"
   ]
  },
  {
   "cell_type": "code",
   "execution_count": null,
   "id": "f990163e",
   "metadata": {},
   "outputs": [],
   "source": []
  }
 ],
 "metadata": {
  "kernelspec": {
   "display_name": "Python 3 (ipykernel)",
   "language": "python",
   "name": "python3"
  },
  "language_info": {
   "codemirror_mode": {
    "name": "ipython",
    "version": 3
   },
   "file_extension": ".py",
   "mimetype": "text/x-python",
   "name": "python",
   "nbconvert_exporter": "python",
   "pygments_lexer": "ipython3",
   "version": "3.9.13"
  }
 },
 "nbformat": 4,
 "nbformat_minor": 5
}
