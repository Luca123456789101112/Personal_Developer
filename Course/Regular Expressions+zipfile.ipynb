{
 "cells": [
  {
   "cell_type": "code",
   "execution_count": 42,
   "id": "df136c3b",
   "metadata": {},
   "outputs": [],
   "source": [
    "text = \"Users phone: 911-2302-7179\""
   ]
  },
  {
   "cell_type": "code",
   "execution_count": 4,
   "id": "90cd3f35",
   "metadata": {},
   "outputs": [
    {
     "data": {
      "text/plain": [
       "True"
      ]
     },
     "execution_count": 4,
     "metadata": {},
     "output_type": "execute_result"
    }
   ],
   "source": [
    "\"phone\" in text"
   ]
  },
  {
   "cell_type": "code",
   "execution_count": 5,
   "id": "8b12e38a",
   "metadata": {},
   "outputs": [],
   "source": [
    "import re"
   ]
  },
  {
   "cell_type": "code",
   "execution_count": 20,
   "id": "ee81679e",
   "metadata": {},
   "outputs": [],
   "source": [
    "pattern = r\"(\\d{3})-\\d{4}-\\d{4}\""
   ]
  },
  {
   "cell_type": "code",
   "execution_count": 24,
   "id": "8ce607d4",
   "metadata": {},
   "outputs": [
    {
     "data": {
      "text/plain": [
       "<re.Match object; span=(13, 26), match='911-2302-7179'>"
      ]
     },
     "execution_count": 24,
     "metadata": {},
     "output_type": "execute_result"
    }
   ],
   "source": [
    "re.search(pattern,text)"
   ]
  },
  {
   "cell_type": "code",
   "execution_count": 23,
   "id": "fd4772d3",
   "metadata": {},
   "outputs": [
    {
     "data": {
      "text/plain": [
       "<function Match.end(group=0, /)>"
      ]
     },
     "execution_count": 23,
     "metadata": {},
     "output_type": "execute_result"
    }
   ],
   "source": []
  },
  {
   "cell_type": "code",
   "execution_count": 8,
   "id": "c3a0809b",
   "metadata": {},
   "outputs": [],
   "source": [
    "def find_phone(text):\n",
    "    pattern = r\"(\\d{3})-\\d{4}-\\d{4}\"\n",
    "    y=re.search(pattern,text)\n",
    "    return y"
   ]
  },
  {
   "cell_type": "code",
   "execution_count": 12,
   "id": "694b6734",
   "metadata": {},
   "outputs": [],
   "source": [
    "match = find_phone(text)"
   ]
  },
  {
   "cell_type": "code",
   "execution_count": 14,
   "id": "89fd8a4b",
   "metadata": {},
   "outputs": [
    {
     "data": {
      "text/plain": [
       "<function Match.start(group=0, /)>"
      ]
     },
     "execution_count": 14,
     "metadata": {},
     "output_type": "execute_result"
    }
   ],
   "source": [
    "match.start"
   ]
  },
  {
   "cell_type": "code",
   "execution_count": 25,
   "id": "3cb4ebf0",
   "metadata": {},
   "outputs": [],
   "source": [
    "text = \"phone phone phone\"\n"
   ]
  },
  {
   "cell_type": "code",
   "execution_count": 26,
   "id": "d1d2e7e3",
   "metadata": {},
   "outputs": [],
   "source": [
    "matches = re.findall(\"phone\",text)"
   ]
  },
  {
   "cell_type": "code",
   "execution_count": 31,
   "id": "895202e4",
   "metadata": {},
   "outputs": [
    {
     "data": {
      "text/plain": [
       "3"
      ]
     },
     "execution_count": 31,
     "metadata": {},
     "output_type": "execute_result"
    }
   ],
   "source": [
    "len(matches)"
   ]
  },
  {
   "cell_type": "markdown",
   "id": "13920be3",
   "metadata": {},
   "source": []
  },
  {
   "cell_type": "code",
   "execution_count": 64,
   "id": "ad608774",
   "metadata": {},
   "outputs": [
    {
     "name": "stdout",
     "output_type": "stream",
     "text": [
      "Bien bro\n"
     ]
    }
   ],
   "source": [
    "a = \"JHSKDHAKSJD\"\n",
    "mlist = []\n",
    "\n",
    "for match in re.finditer(\"phone\", text):\n",
    "    mlist.append(match)\n",
    "    if len(mlist) >= 2:\n",
    "        print(\"You have enter more than 1 object\")\n",
    "    else:\n",
    "        print(\"Bien bro\")"
   ]
  },
  {
   "cell_type": "code",
   "execution_count": 76,
   "id": "9ddda475",
   "metadata": {},
   "outputs": [],
   "source": [
    "def find_match(pattern,text):\n",
    "    try:\n",
    "        return re.search(pattern,text)\n",
    "    except:\n",
    "        return \"The pattern didint match\""
   ]
  },
  {
   "cell_type": "code",
   "execution_count": 77,
   "id": "a8cdb46f",
   "metadata": {},
   "outputs": [
    {
     "data": {
      "text/plain": [
       "<re.Match object; span=(13, 26), match='911-2302-7179'>"
      ]
     },
     "execution_count": 77,
     "metadata": {},
     "output_type": "execute_result"
    }
   ],
   "source": [
    "find_match(patt,text)"
   ]
  },
  {
   "cell_type": "code",
   "execution_count": 70,
   "id": "d1c2450e",
   "metadata": {},
   "outputs": [],
   "source": [
    "patt = re.compile(r\"(\\d{3})-(\\d{4})-(\\d{4})\")"
   ]
  },
  {
   "cell_type": "code",
   "execution_count": 71,
   "id": "ca4c7b2c",
   "metadata": {},
   "outputs": [],
   "source": [
    "results = re.search(patt,text)"
   ]
  },
  {
   "cell_type": "code",
   "execution_count": 75,
   "id": "4252e234",
   "metadata": {},
   "outputs": [
    {
     "data": {
      "text/plain": [
       "'911'"
      ]
     },
     "execution_count": 75,
     "metadata": {},
     "output_type": "execute_result"
    }
   ],
   "source": [
    "results.group(1)"
   ]
  },
  {
   "cell_type": "code",
   "execution_count": null,
   "id": "e293ee0c",
   "metadata": {},
   "outputs": [],
   "source": []
  },
  {
   "cell_type": "code",
   "execution_count": null,
   "id": "ff34c5e7",
   "metadata": {},
   "outputs": [],
   "source": []
  },
  {
   "cell_type": "code",
   "execution_count": null,
   "id": "57b4f893",
   "metadata": {},
   "outputs": [],
   "source": []
  },
  {
   "cell_type": "code",
   "execution_count": null,
   "id": "34d08110",
   "metadata": {},
   "outputs": [],
   "source": []
  },
  {
   "cell_type": "code",
   "execution_count": 79,
   "id": "2f928d40",
   "metadata": {},
   "outputs": [
    {
     "data": {
      "text/plain": [
       "<re.Match object; span=(4, 7), match='cat'>"
      ]
     },
     "execution_count": 79,
     "metadata": {},
     "output_type": "execute_result"
    }
   ],
   "source": [
    "re.search(r\"cat|dog\", \"The cat is here\")"
   ]
  },
  {
   "cell_type": "code",
   "execution_count": 81,
   "id": "f9756552",
   "metadata": {},
   "outputs": [
    {
     "data": {
      "text/plain": [
       "['The cat', 'h a hat']"
      ]
     },
     "execution_count": 81,
     "metadata": {},
     "output_type": "execute_result"
    }
   ],
   "source": [
    "re.findall(r\".....at\", \"The cat with a hat\")"
   ]
  },
  {
   "cell_type": "code",
   "execution_count": 82,
   "id": "69a7a0b6",
   "metadata": {},
   "outputs": [
    {
     "data": {
      "text/plain": [
       "[]"
      ]
     },
     "execution_count": 82,
     "metadata": {},
     "output_type": "execute_result"
    }
   ],
   "source": [
    "re.findall(r\"^\\d\", \"The number is 2\")"
   ]
  },
  {
   "cell_type": "code",
   "execution_count": null,
   "id": "86d37a2e",
   "metadata": {},
   "outputs": [],
   "source": []
  },
  {
   "cell_type": "code",
   "execution_count": null,
   "id": "0d89eaec",
   "metadata": {},
   "outputs": [],
   "source": []
  },
  {
   "cell_type": "code",
   "execution_count": null,
   "id": "4ea1b9ba",
   "metadata": {},
   "outputs": [],
   "source": []
  },
  {
   "cell_type": "code",
   "execution_count": 84,
   "id": "4b27c8ac",
   "metadata": {},
   "outputs": [],
   "source": [
    "phrase =\"there are 3 numbers 34 inside 5 this sentence\""
   ]
  },
  {
   "cell_type": "code",
   "execution_count": 94,
   "id": "402a3f34",
   "metadata": {},
   "outputs": [],
   "source": [
    "pattern = r\"[^\\d]+\""
   ]
  },
  {
   "cell_type": "code",
   "execution_count": null,
   "id": "6cad6c93",
   "metadata": {},
   "outputs": [],
   "source": []
  },
  {
   "cell_type": "code",
   "execution_count": 89,
   "id": "3c34600f",
   "metadata": {},
   "outputs": [],
   "source": [
    "h = \"luca.b.reynoso@gmail.com\""
   ]
  },
  {
   "cell_type": "code",
   "execution_count": 110,
   "id": "2880a701",
   "metadata": {},
   "outputs": [],
   "source": [
    "punct = \"This is a string with punctuation-sudjhakjs -sdujaklsd\""
   ]
  },
  {
   "cell_type": "code",
   "execution_count": 111,
   "id": "0278798d",
   "metadata": {},
   "outputs": [
    {
     "data": {
      "text/plain": [
       "['This is a string with punctuation-sudjhakjs -sdujaklsd']"
      ]
     },
     "execution_count": 111,
     "metadata": {},
     "output_type": "execute_result"
    }
   ],
   "source": [
    "re.findall(r\"[^!.?]+\",punct)"
   ]
  },
  {
   "cell_type": "code",
   "execution_count": 112,
   "id": "c0e0e312",
   "metadata": {},
   "outputs": [
    {
     "data": {
      "text/plain": [
       "[]"
      ]
     },
     "execution_count": 112,
     "metadata": {},
     "output_type": "execute_result"
    }
   ],
   "source": [
    "re.findall(r\"[\\w]+-[\\/w]\",punct)"
   ]
  },
  {
   "cell_type": "code",
   "execution_count": 113,
   "id": "40b0f815",
   "metadata": {},
   "outputs": [],
   "source": [
    "text = 'Hello, would you like some catfish?'\n",
    "texttwo = \"Hello, would you like to take a catnap?\"\n",
    "textthree = \"Hello, have you seen this caterpillar?\""
   ]
  },
  {
   "cell_type": "code",
   "execution_count": 117,
   "id": "367ef5f0",
   "metadata": {},
   "outputs": [
    {
     "data": {
      "text/plain": [
       "<re.Match object; span=(32, 38), match='catnap'>"
      ]
     },
     "execution_count": 117,
     "metadata": {},
     "output_type": "execute_result"
    }
   ],
   "source": [
    "re.search(r\"cat(fish|nap|erpillar)\",texttwo)"
   ]
  },
  {
   "cell_type": "code",
   "execution_count": 118,
   "id": "7e596e31",
   "metadata": {},
   "outputs": [],
   "source": [
    "import timeit"
   ]
  },
  {
   "cell_type": "code",
   "execution_count": 119,
   "id": "ff347226",
   "metadata": {},
   "outputs": [
    {
     "data": {
      "text/plain": [
       "10"
      ]
     },
     "execution_count": 119,
     "metadata": {},
     "output_type": "execute_result"
    }
   ],
   "source": [
    "10"
   ]
  },
  {
   "cell_type": "code",
   "execution_count": 120,
   "id": "ad8af5d7",
   "metadata": {},
   "outputs": [
    {
     "data": {
      "text/plain": [
       "3"
      ]
     },
     "execution_count": 120,
     "metadata": {},
     "output_type": "execute_result"
    }
   ],
   "source": [
    "3"
   ]
  },
  {
   "cell_type": "code",
   "execution_count": 166,
   "id": "fe96ce82",
   "metadata": {},
   "outputs": [],
   "source": [
    "mlist = []\n"
   ]
  },
  {
   "cell_type": "code",
   "execution_count": 141,
   "id": "34b5233e",
   "metadata": {},
   "outputs": [],
   "source": [
    "def func_(n):\n",
    "    return list(map(str,range(n)))"
   ]
  },
  {
   "cell_type": "code",
   "execution_count": 143,
   "id": "4267ffd4",
   "metadata": {},
   "outputs": [
    {
     "data": {
      "text/plain": [
       "['0', '1', '2', '3', '4', '5', '6', '7', '8', '9']"
      ]
     },
     "execution_count": 143,
     "metadata": {},
     "output_type": "execute_result"
    }
   ],
   "source": [
    "func_(10)"
   ]
  },
  {
   "cell_type": "code",
   "execution_count": 144,
   "id": "1ff62321",
   "metadata": {},
   "outputs": [],
   "source": [
    "import time"
   ]
  },
  {
   "cell_type": "code",
   "execution_count": 160,
   "id": "105fd363",
   "metadata": {},
   "outputs": [
    {
     "name": "stdout",
     "output_type": "stream",
     "text": [
      "0.0\n"
     ]
    }
   ],
   "source": [
    "start = time.time()\n",
    "\n",
    "result = basic_func(1000000)\n",
    "\n",
    "end = time.time()\n",
    "\n",
    "elapsed = end - start\n",
    "\n",
    "print(elapsed)"
   ]
  },
  {
   "cell_type": "code",
   "execution_count": 186,
   "id": "dbb730f1",
   "metadata": {},
   "outputs": [],
   "source": [
    "stmt = \"\"\"\n",
    "basic_func(100)\n",
    "\"\"\""
   ]
  },
  {
   "cell_type": "code",
   "execution_count": 187,
   "id": "3af5e299",
   "metadata": {},
   "outputs": [],
   "source": [
    "setup = \"\"\"\n",
    "mlist = []\n",
    "def basic_func(num):\n",
    "    for x in range(0,num):\n",
    "        mlist.append(str(x))\n",
    "    return mlist\n",
    "\"\"\""
   ]
  },
  {
   "cell_type": "code",
   "execution_count": 193,
   "id": "5e823e69",
   "metadata": {},
   "outputs": [
    {
     "data": {
      "text/plain": [
       "15.36713299999974"
      ]
     },
     "execution_count": 193,
     "metadata": {},
     "output_type": "execute_result"
    }
   ],
   "source": [
    "timeit.timeit(stmt,setup,number=1000000)"
   ]
  },
  {
   "cell_type": "code",
   "execution_count": 177,
   "id": "ff1cffad",
   "metadata": {},
   "outputs": [],
   "source": [
    "stmt2 = \"\"\"\n",
    "func_(100)\n",
    "\"\"\""
   ]
  },
  {
   "cell_type": "code",
   "execution_count": 179,
   "id": "78742dda",
   "metadata": {},
   "outputs": [],
   "source": [
    "setup2 = \"\"\"\n",
    "def func_(n):\n",
    "    return list(map(str,range(n)))\n",
    "\"\"\""
   ]
  },
  {
   "cell_type": "code",
   "execution_count": 192,
   "id": "da39b61d",
   "metadata": {},
   "outputs": [
    {
     "data": {
      "text/plain": [
       "9.404573800000435"
      ]
     },
     "execution_count": 192,
     "metadata": {},
     "output_type": "execute_result"
    }
   ],
   "source": [
    "timeit.timeit(stmt2,setup2,number=1000000)"
   ]
  },
  {
   "cell_type": "code",
   "execution_count": 197,
   "id": "b4a3edc9",
   "metadata": {},
   "outputs": [
    {
     "name": "stdout",
     "output_type": "stream",
     "text": [
      "9.77 µs ± 155 ns per loop (mean ± std. dev. of 7 runs, 100000 loops each)\n"
     ]
    }
   ],
   "source": [
    "%%timeit\n",
    "func_(100)"
   ]
  },
  {
   "cell_type": "code",
   "execution_count": 198,
   "id": "f09040a2",
   "metadata": {},
   "outputs": [
    {
     "name": "stdout",
     "output_type": "stream",
     "text": [
      "95.9 ns ± 1.08 ns per loop (mean ± std. dev. of 7 runs, 10000000 loops each)\n"
     ]
    }
   ],
   "source": [
    "%%timeit\n",
    "basic_func(100)"
   ]
  },
  {
   "cell_type": "code",
   "execution_count": null,
   "id": "17c0e752",
   "metadata": {},
   "outputs": [],
   "source": []
  },
  {
   "cell_type": "code",
   "execution_count": null,
   "id": "b29d68f1",
   "metadata": {},
   "outputs": [],
   "source": []
  },
  {
   "cell_type": "code",
   "execution_count": null,
   "id": "3dfd3275",
   "metadata": {},
   "outputs": [],
   "source": []
  },
  {
   "cell_type": "code",
   "execution_count": null,
   "id": "5b6961ea",
   "metadata": {},
   "outputs": [],
   "source": []
  },
  {
   "cell_type": "code",
   "execution_count": null,
   "id": "200e48d0",
   "metadata": {},
   "outputs": [],
   "source": []
  },
  {
   "cell_type": "code",
   "execution_count": null,
   "id": "8c9238d7",
   "metadata": {},
   "outputs": [],
   "source": []
  },
  {
   "cell_type": "code",
   "execution_count": 202,
   "id": "6cd6f3e7",
   "metadata": {},
   "outputs": [],
   "source": [
    "f = open(\"file1.text\",\"w+\")\n",
    "f.write(\"File one\")\n",
    "f.close()"
   ]
  },
  {
   "cell_type": "code",
   "execution_count": 203,
   "id": "9254d033",
   "metadata": {},
   "outputs": [],
   "source": [
    "f = open(\"file2.text\",\"w+\")\n",
    "f.write(\"File two\")\n",
    "f.close()"
   ]
  },
  {
   "cell_type": "code",
   "execution_count": 204,
   "id": "1313cc56",
   "metadata": {},
   "outputs": [],
   "source": [
    "import zipfile"
   ]
  },
  {
   "cell_type": "code",
   "execution_count": 210,
   "id": "51a466bd",
   "metadata": {},
   "outputs": [],
   "source": [
    "comp = zipfile.ZipFile(\"comp_file.zip\",\"w\")"
   ]
  },
  {
   "cell_type": "code",
   "execution_count": 211,
   "id": "adec173a",
   "metadata": {},
   "outputs": [],
   "source": [
    "comp.write(\"file1.text\",compress_type=zipfile.ZIP_DEFLATED)"
   ]
  },
  {
   "cell_type": "code",
   "execution_count": 212,
   "id": "fbb7ca67",
   "metadata": {},
   "outputs": [],
   "source": [
    "comp.write(\"file2.text\",compress_type=zipfile.ZIP_DEFLATED)"
   ]
  },
  {
   "cell_type": "code",
   "execution_count": 213,
   "id": "d889d7b1",
   "metadata": {},
   "outputs": [],
   "source": [
    "comp.close()"
   ]
  },
  {
   "cell_type": "code",
   "execution_count": 214,
   "id": "a66b8bf4",
   "metadata": {},
   "outputs": [],
   "source": [
    "zip_o = zipfile.ZipFile(\"comp_file.zip\",\"r\")"
   ]
  },
  {
   "cell_type": "code",
   "execution_count": 215,
   "id": "e68386fa",
   "metadata": {},
   "outputs": [],
   "source": [
    "zip_o.extractall(\"extracted_content\")"
   ]
  },
  {
   "cell_type": "code",
   "execution_count": 218,
   "id": "07c3a440",
   "metadata": {},
   "outputs": [],
   "source": [
    "import send2trash"
   ]
  },
  {
   "cell_type": "code",
   "execution_count": 221,
   "id": "a5de7d9f",
   "metadata": {},
   "outputs": [
    {
     "data": {
      "text/plain": [
       "'C:\\\\Users\\\\Luca\\\\Desktop\\\\Personal\\\\Course'"
      ]
     },
     "execution_count": 221,
     "metadata": {},
     "output_type": "execute_result"
    }
   ],
   "source": [
    "pwd"
   ]
  },
  {
   "cell_type": "code",
   "execution_count": 220,
   "id": "f75ab2d6",
   "metadata": {},
   "outputs": [],
   "source": [
    "import shutil"
   ]
  },
  {
   "cell_type": "code",
   "execution_count": 222,
   "id": "bfb4cb9d",
   "metadata": {},
   "outputs": [],
   "source": [
    "dir_zip = 'C:\\\\Users\\\\Luca\\\\Desktop\\\\Personal\\\\Course\\\\extracted_content'"
   ]
  },
  {
   "cell_type": "code",
   "execution_count": 223,
   "id": "f10c7c87",
   "metadata": {},
   "outputs": [],
   "source": [
    "outputfile = \"ex\""
   ]
  },
  {
   "cell_type": "code",
   "execution_count": null,
   "id": "4b3699e5",
   "metadata": {},
   "outputs": [],
   "source": [
    "shutil.make_archive(outputfile,\"zip\",dir_to_zip)"
   ]
  }
 ],
 "metadata": {
  "kernelspec": {
   "display_name": "Python 3 (ipykernel)",
   "language": "python",
   "name": "python3"
  },
  "language_info": {
   "codemirror_mode": {
    "name": "ipython",
    "version": 3
   },
   "file_extension": ".py",
   "mimetype": "text/x-python",
   "name": "python",
   "nbconvert_exporter": "python",
   "pygments_lexer": "ipython3",
   "version": "3.9.13"
  }
 },
 "nbformat": 4,
 "nbformat_minor": 5
}
