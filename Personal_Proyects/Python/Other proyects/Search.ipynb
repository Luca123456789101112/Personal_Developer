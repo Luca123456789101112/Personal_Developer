{
 "cells": [
  {
   "cell_type": "code",
   "execution_count": 1,
   "id": "76fa5f13",
   "metadata": {},
   "outputs": [],
   "source": [
    "import os"
   ]
  },
  {
   "cell_type": "code",
   "execution_count": 2,
   "id": "7eef8b66",
   "metadata": {},
   "outputs": [],
   "source": [
    "import collections"
   ]
  },
  {
   "cell_type": "code",
   "execution_count": 3,
   "id": "3a386b3c",
   "metadata": {},
   "outputs": [],
   "source": [
    "import re"
   ]
  },
  {
   "cell_type": "code",
   "execution_count": 4,
   "id": "771a55e7",
   "metadata": {},
   "outputs": [],
   "source": [
    "import requests"
   ]
  },
  {
   "cell_type": "code",
   "execution_count": 5,
   "id": "e32b6103",
   "metadata": {},
   "outputs": [],
   "source": [
    "import bs4"
   ]
  },
  {
   "cell_type": "code",
   "execution_count": 10,
   "id": "0dc38a2c",
   "metadata": {},
   "outputs": [],
   "source": [
    "def search_func():\n",
    "\n",
    "    searchFor = input(\"Enter what you want to search: \")\n",
    "\n",
    "    result = requests.get(\"https://es.wikipedia.org/wiki/\"+ searchFor)\n",
    "\n",
    "    class Search():\n",
    "\n",
    "        def __init__(self,soup = bs4.BeautifulSoup(result.text,\"lxml\")):\n",
    "            self.soup = soup\n",
    "\n",
    "        def search_pattern(self):\n",
    "\n",
    "            pattern =  input(\"Do you want to search for somthing special? \")\n",
    "\n",
    "            if re.search(pattern,self.soup.select(\"p\")[0].getText()) == None:\n",
    "                print(\"The object wasnt found\")\n",
    "            else:\n",
    "                print(\"\\n\")\n",
    "                print(\"The text was found\")\n",
    "                print(\"\\n\")\n",
    "\n",
    "\n",
    "            try:\n",
    "                print(\"The text was: \")\n",
    "                print(self.soup.select(\"p\")[0].getText())\n",
    "            except:\n",
    "                print(\"The object wasnt found\")\n",
    "            \n",
    "    search_i = Search()\n",
    "    \n",
    "    continue_search = \" \"\n",
    "    \n",
    "    while continue_search not in [\"stop search\"]:\n",
    "        \n",
    "        search_i.search_pattern()\n",
    "        \n",
    "        continue_search = input(\"Do you want to search any other object: \")"
   ]
  },
  {
   "cell_type": "code",
   "execution_count": null,
   "id": "855624be",
   "metadata": {},
   "outputs": [
    {
     "name": "stdout",
     "output_type": "stream",
     "text": [
      "Enter what you want to search: chau\n",
      "Do you want to search for somthing special? chau\n",
      "\n",
      "\n",
      "The text was found\n",
      "\n",
      "\n",
      "The text was: \n",
      "Chao o chau (en italiano ciao) es un saludo o despedida informal característico del idioma italiano y originario del idioma véneto, del cual fue adoptado. En el italiano moderno y en otras lenguas se usa indistintamente como «hola» o «adiós».\n",
      "\n",
      "Do you want to search any other object: yes\n",
      "Do you want to search for somthing special? chau\n",
      "\n",
      "\n",
      "The text was found\n",
      "\n",
      "\n",
      "The text was: \n",
      "Chao o chau (en italiano ciao) es un saludo o despedida informal característico del idioma italiano y originario del idioma véneto, del cual fue adoptado. En el italiano moderno y en otras lenguas se usa indistintamente como «hola» o «adiós».\n",
      "\n"
     ]
    }
   ],
   "source": [
    "search_func()"
   ]
  },
  {
   "cell_type": "code",
   "execution_count": null,
   "id": "94c53de8",
   "metadata": {},
   "outputs": [],
   "source": []
  }
 ],
 "metadata": {
  "kernelspec": {
   "display_name": "Python 3 (ipykernel)",
   "language": "python",
   "name": "python3"
  },
  "language_info": {
   "codemirror_mode": {
    "name": "ipython",
    "version": 3
   },
   "file_extension": ".py",
   "mimetype": "text/x-python",
   "name": "python",
   "nbconvert_exporter": "python",
   "pygments_lexer": "ipython3",
   "version": "3.9.13"
  }
 },
 "nbformat": 4,
 "nbformat_minor": 5
}
