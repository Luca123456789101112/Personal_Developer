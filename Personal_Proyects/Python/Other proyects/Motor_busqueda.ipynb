{
 "cells": [
  {
   "cell_type": "code",
   "execution_count": 1,
   "id": "cc04817f",
   "metadata": {},
   "outputs": [],
   "source": [
    "import re"
   ]
  },
  {
   "cell_type": "code",
   "execution_count": 2,
   "id": "f30ffc38",
   "metadata": {},
   "outputs": [],
   "source": [
    "import webbrowser"
   ]
  },
  {
   "cell_type": "code",
   "execution_count": 3,
   "id": "d4865935",
   "metadata": {},
   "outputs": [],
   "source": [
    "import bs4"
   ]
  },
  {
   "cell_type": "code",
   "execution_count": 4,
   "id": "503b65f8",
   "metadata": {},
   "outputs": [],
   "source": [
    "def func():\n",
    "    \n",
    "    class SearchEngine():\n",
    "        \n",
    "        def __init__(self):\n",
    "            pass\n",
    "        \n",
    "        def search(self):\n",
    "            \n",
    "            ask = input(\"What are you looking for?\")\n",
    "            \n",
    "            webbrowser.open(\"https://es.wikipedia.org/wiki/\"+ask)\n",
    "        \n",
    "\n",
    "    search_inst = SearchEngine() \n",
    "    \n",
    "    continue_search = \" \"\n",
    "    \n",
    "    while continue_search not in [\"no\"]:\n",
    "        \n",
    "        search_inst.search()\n",
    "\n",
    "        continue_search = input(\"Do you want to search any other object: \")"
   ]
  },
  {
   "cell_type": "code",
   "execution_count": 5,
   "id": "ab4b902e",
   "metadata": {},
   "outputs": [
    {
     "name": "stdout",
     "output_type": "stream",
     "text": [
      "What are you looking for?bananas\n",
      "Do you want to search any other object: no\n"
     ]
    }
   ],
   "source": [
    "func()"
   ]
  },
  {
   "cell_type": "code",
   "execution_count": null,
   "id": "a96544ff",
   "metadata": {},
   "outputs": [],
   "source": []
  }
 ],
 "metadata": {
  "kernelspec": {
   "display_name": "Python 3 (ipykernel)",
   "language": "python",
   "name": "python3"
  },
  "language_info": {
   "codemirror_mode": {
    "name": "ipython",
    "version": 3
   },
   "file_extension": ".py",
   "mimetype": "text/x-python",
   "name": "python",
   "nbconvert_exporter": "python",
   "pygments_lexer": "ipython3",
   "version": "3.9.13"
  }
 },
 "nbformat": 4,
 "nbformat_minor": 5
}
