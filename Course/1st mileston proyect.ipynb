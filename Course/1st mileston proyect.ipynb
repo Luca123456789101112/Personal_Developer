{
 "cells": [
  {
   "cell_type": "code",
   "execution_count": 2,
   "id": "673b2318",
   "metadata": {},
   "outputs": [],
   "source": [
    "row1 = [\" \",\"|\",\" \",\"|\",\" \"]\n",
    "line1= [\"―――――――――――――――――――――\"]\n",
    "row2 = [\" \",\"|\",\" \",\"|\",\" \"]\n",
    "line2= [\"―――――――――――――――――――――\"]\n",
    "row3= [\" \",\"|\",\" \",\"|\",\" \"]"
   ]
  },
  {
   "cell_type": "code",
   "execution_count": 3,
   "id": "7bb4ac2b",
   "metadata": {},
   "outputs": [],
   "source": [
    "def display():\n",
    "    print(row1)\n",
    "    print(line1)\n",
    "    print(row2)\n",
    "    print(line2)\n",
    "    print(row3)"
   ]
  },
  {
   "cell_type": "code",
   "execution_count": 4,
   "id": "0c275085",
   "metadata": {},
   "outputs": [
    {
     "name": "stdout",
     "output_type": "stream",
     "text": [
      "[' ', '|', ' ', '|', ' ']\n",
      "['―――――――――――――――――――――']\n",
      "[' ', '|', ' ', '|', ' ']\n",
      "['―――――――――――――――――――――']\n",
      "[' ', '|', ' ', '|', ' ']\n"
     ]
    }
   ],
   "source": [
    "display()"
   ]
  },
  {
   "cell_type": "code",
   "execution_count": 5,
   "id": "c1bfc235",
   "metadata": {},
   "outputs": [],
   "source": [
    "def row_choice():\n",
    "    guess = \"\" \n",
    "    \n",
    "    while guess not in [\"row1\",\"row2\",\"row3\"]:\n",
    "        guess = input(\"Enter the row you want, row1, row2 or row3 \")\n",
    "    \n",
    "    print(\"Here is your current row\")\n",
    "    print(guess)\n",
    "        \n",
    "    return guess    "
   ]
  },
  {
   "cell_type": "code",
   "execution_count": 6,
   "id": "15b845dc",
   "metadata": {},
   "outputs": [],
   "source": [
    "def position_choice():\n",
    "    choice = \"\"\n",
    "    \n",
    "    while choice not in [1,2,3]:\n",
    "        choice = int(input(\"Enter the position you want to replace, 1, 2 or 3: \"))\n",
    "    \n",
    "    if choice == 1:\n",
    "        choice -= 1\n",
    "    elif choice == 3:\n",
    "        choice +=1\n",
    "    \n",
    "    return choice"
   ]
  },
  {
   "cell_type": "code",
   "execution_count": 14,
   "id": "29abc7d4",
   "metadata": {},
   "outputs": [],
   "source": [
    "def replace(row, position):     \n",
    "    user_placement = input(\"X or O \")\n",
    "    if row == \"row1\":\n",
    "        row1[position] = user_placement\n",
    "    elif row == \"row2\":\n",
    "        row2[position] = user_placement\n",
    "    elif row == \"row3\":\n",
    "        row3[position] = user_placement\n",
    "    \n",
    "    return display()"
   ]
  },
  {
   "cell_type": "code",
   "execution_count": 15,
   "id": "e5366070",
   "metadata": {},
   "outputs": [
    {
     "name": "stdout",
     "output_type": "stream",
     "text": [
      "[' ', '|', ' ', '|', ' ']\n",
      "['―――――――――――――――――――――']\n",
      "[' ', '|', ' ', '|', ' ']\n",
      "['―――――――――――――――――――――']\n",
      "[' ', '|', ' ', '|', ' ']\n",
      "Enter the row you want, row1, row2 or row3 row1\n",
      "Here is your current row\n",
      "row1\n",
      "Enter the position you want to replace, 1, 2 or 3: 1\n",
      "X or O X\n",
      "['X', '|', ' ', '|', ' ']\n",
      "['―――――――――――――――――――――']\n",
      "[' ', '|', ' ', '|', ' ']\n",
      "['―――――――――――――――――――――']\n",
      "[' ', '|', ' ', '|', ' ']\n"
     ]
    },
    {
     "ename": "KeyboardInterrupt",
     "evalue": "Interrupted by user",
     "output_type": "error",
     "traceback": [
      "\u001b[1;31m---------------------------------------------------------------------------\u001b[0m",
      "\u001b[1;31mKeyboardInterrupt\u001b[0m                         Traceback (most recent call last)",
      "\u001b[1;32m~\\AppData\\Local\\Temp\\ipykernel_32856\\2692837941.py\u001b[0m in \u001b[0;36m<module>\u001b[1;34m\u001b[0m\n\u001b[0;32m      8\u001b[0m \u001b[0mposition\u001b[0m \u001b[1;33m=\u001b[0m \u001b[0mposition_choice\u001b[0m\u001b[1;33m(\u001b[0m\u001b[1;33m)\u001b[0m\u001b[1;33m\u001b[0m\u001b[1;33m\u001b[0m\u001b[0m\n\u001b[0;32m      9\u001b[0m \u001b[0mreplace\u001b[0m\u001b[1;33m(\u001b[0m\u001b[0mrow\u001b[0m\u001b[1;33m,\u001b[0m\u001b[0mposition\u001b[0m\u001b[1;33m)\u001b[0m\u001b[1;33m\u001b[0m\u001b[1;33m\u001b[0m\u001b[0m\n\u001b[1;32m---> 10\u001b[1;33m \u001b[0mrow\u001b[0m \u001b[1;33m=\u001b[0m \u001b[0mrow_choice\u001b[0m\u001b[1;33m(\u001b[0m\u001b[1;33m)\u001b[0m\u001b[1;33m\u001b[0m\u001b[1;33m\u001b[0m\u001b[0m\n\u001b[0m\u001b[0;32m     11\u001b[0m \u001b[0mposition\u001b[0m \u001b[1;33m=\u001b[0m \u001b[0mposition_choice\u001b[0m\u001b[1;33m(\u001b[0m\u001b[1;33m)\u001b[0m\u001b[1;33m\u001b[0m\u001b[1;33m\u001b[0m\u001b[0m\n\u001b[0;32m     12\u001b[0m \u001b[0mreplace\u001b[0m\u001b[1;33m(\u001b[0m\u001b[0mrow\u001b[0m\u001b[1;33m,\u001b[0m\u001b[0mposition\u001b[0m\u001b[1;33m)\u001b[0m\u001b[1;33m\u001b[0m\u001b[1;33m\u001b[0m\u001b[0m\n",
      "\u001b[1;32m~\\AppData\\Local\\Temp\\ipykernel_32856\\504936504.py\u001b[0m in \u001b[0;36mrow_choice\u001b[1;34m()\u001b[0m\n\u001b[0;32m      3\u001b[0m \u001b[1;33m\u001b[0m\u001b[0m\n\u001b[0;32m      4\u001b[0m     \u001b[1;32mwhile\u001b[0m \u001b[0mguess\u001b[0m \u001b[1;32mnot\u001b[0m \u001b[1;32min\u001b[0m \u001b[1;33m[\u001b[0m\u001b[1;34m\"row1\"\u001b[0m\u001b[1;33m,\u001b[0m\u001b[1;34m\"row2\"\u001b[0m\u001b[1;33m,\u001b[0m\u001b[1;34m\"row3\"\u001b[0m\u001b[1;33m]\u001b[0m\u001b[1;33m:\u001b[0m\u001b[1;33m\u001b[0m\u001b[1;33m\u001b[0m\u001b[0m\n\u001b[1;32m----> 5\u001b[1;33m         \u001b[0mguess\u001b[0m \u001b[1;33m=\u001b[0m \u001b[0minput\u001b[0m\u001b[1;33m(\u001b[0m\u001b[1;34m\"Enter the row you want, row1, row2 or row3 \"\u001b[0m\u001b[1;33m)\u001b[0m\u001b[1;33m\u001b[0m\u001b[1;33m\u001b[0m\u001b[0m\n\u001b[0m\u001b[0;32m      6\u001b[0m \u001b[1;33m\u001b[0m\u001b[0m\n\u001b[0;32m      7\u001b[0m     \u001b[0mprint\u001b[0m\u001b[1;33m(\u001b[0m\u001b[1;34m\"Here is your current row\"\u001b[0m\u001b[1;33m)\u001b[0m\u001b[1;33m\u001b[0m\u001b[1;33m\u001b[0m\u001b[0m\n",
      "\u001b[1;32m~\\anaconda3\\lib\\site-packages\\ipykernel\\kernelbase.py\u001b[0m in \u001b[0;36mraw_input\u001b[1;34m(self, prompt)\u001b[0m\n\u001b[0;32m   1175\u001b[0m                 \u001b[1;34m\"raw_input was called, but this frontend does not support input requests.\"\u001b[0m\u001b[1;33m\u001b[0m\u001b[1;33m\u001b[0m\u001b[0m\n\u001b[0;32m   1176\u001b[0m             )\n\u001b[1;32m-> 1177\u001b[1;33m         return self._input_request(\n\u001b[0m\u001b[0;32m   1178\u001b[0m             \u001b[0mstr\u001b[0m\u001b[1;33m(\u001b[0m\u001b[0mprompt\u001b[0m\u001b[1;33m)\u001b[0m\u001b[1;33m,\u001b[0m\u001b[1;33m\u001b[0m\u001b[1;33m\u001b[0m\u001b[0m\n\u001b[0;32m   1179\u001b[0m             \u001b[0mself\u001b[0m\u001b[1;33m.\u001b[0m\u001b[0m_parent_ident\u001b[0m\u001b[1;33m[\u001b[0m\u001b[1;34m\"shell\"\u001b[0m\u001b[1;33m]\u001b[0m\u001b[1;33m,\u001b[0m\u001b[1;33m\u001b[0m\u001b[1;33m\u001b[0m\u001b[0m\n",
      "\u001b[1;32m~\\anaconda3\\lib\\site-packages\\ipykernel\\kernelbase.py\u001b[0m in \u001b[0;36m_input_request\u001b[1;34m(self, prompt, ident, parent, password)\u001b[0m\n\u001b[0;32m   1217\u001b[0m             \u001b[1;32mexcept\u001b[0m \u001b[0mKeyboardInterrupt\u001b[0m\u001b[1;33m:\u001b[0m\u001b[1;33m\u001b[0m\u001b[1;33m\u001b[0m\u001b[0m\n\u001b[0;32m   1218\u001b[0m                 \u001b[1;31m# re-raise KeyboardInterrupt, to truncate traceback\u001b[0m\u001b[1;33m\u001b[0m\u001b[1;33m\u001b[0m\u001b[0m\n\u001b[1;32m-> 1219\u001b[1;33m                 \u001b[1;32mraise\u001b[0m \u001b[0mKeyboardInterrupt\u001b[0m\u001b[1;33m(\u001b[0m\u001b[1;34m\"Interrupted by user\"\u001b[0m\u001b[1;33m)\u001b[0m \u001b[1;32mfrom\u001b[0m \u001b[1;32mNone\u001b[0m\u001b[1;33m\u001b[0m\u001b[1;33m\u001b[0m\u001b[0m\n\u001b[0m\u001b[0;32m   1220\u001b[0m             \u001b[1;32mexcept\u001b[0m \u001b[0mException\u001b[0m\u001b[1;33m:\u001b[0m\u001b[1;33m\u001b[0m\u001b[1;33m\u001b[0m\u001b[0m\n\u001b[0;32m   1221\u001b[0m                 \u001b[0mself\u001b[0m\u001b[1;33m.\u001b[0m\u001b[0mlog\u001b[0m\u001b[1;33m.\u001b[0m\u001b[0mwarning\u001b[0m\u001b[1;33m(\u001b[0m\u001b[1;34m\"Invalid Message:\"\u001b[0m\u001b[1;33m,\u001b[0m \u001b[0mexc_info\u001b[0m\u001b[1;33m=\u001b[0m\u001b[1;32mTrue\u001b[0m\u001b[1;33m)\u001b[0m\u001b[1;33m\u001b[0m\u001b[1;33m\u001b[0m\u001b[0m\n",
      "\u001b[1;31mKeyboardInterrupt\u001b[0m: Interrupted by user"
     ]
    }
   ],
   "source": [
    "row1 = [\" \",\"|\",\" \",\"|\",\" \"]\n",
    "line1= [\"―――――――――――――――――――――\"]\n",
    "row2 = [\" \",\"|\",\" \",\"|\",\" \"]\n",
    "line2= [\"―――――――――――――――――――――\"]\n",
    "row3= [\" \",\"|\",\" \",\"|\",\" \"]\n",
    "display()\n",
    "row = row_choice()\n",
    "position = position_choice()\n",
    "replace(row,position)\n",
    "row = row_choice()\n",
    "position = position_choice()\n",
    "replace(row,position)\n",
    "row = row_choice()\n",
    "position = position_choice()\n",
    "replace(row,position)\n",
    "row = row_choice()\n",
    "position = position_choice()\n",
    "replace(row,position)\n",
    "row = row_choice()\n",
    "position = position_choice()\n",
    "replace(row,position)\n",
    "row = row_choice()\n",
    "position = position_choice()\n",
    "replace(row,position)\n",
    "row = row_choice()\n",
    "position = position_choice()\n",
    "replace(row,position)\n",
    "row = row_choice()\n",
    "position = position_choice()\n",
    "replace(row,position)\n",
    "row = row_choice()\n",
    "position = position_choice()\n",
    "replace(row,position)"
   ]
  },
  {
   "cell_type": "raw",
   "id": "10540d3e",
   "metadata": {},
   "source": [
    "row = row_choice()\n",
    "position = position_choice()\n",
    "replace(row,position)"
   ]
  },
  {
   "cell_type": "code",
   "execution_count": null,
   "id": "1031fa10",
   "metadata": {},
   "outputs": [],
   "source": [
    "row = row_choice()\n",
    "position = position_choice()\n",
    "replace(row,position)"
   ]
  }
 ],
 "metadata": {
  "kernelspec": {
   "display_name": "Python 3 (ipykernel)",
   "language": "python",
   "name": "python3"
  },
  "language_info": {
   "codemirror_mode": {
    "name": "ipython",
    "version": 3
   },
   "file_extension": ".py",
   "mimetype": "text/x-python",
   "name": "python",
   "nbconvert_exporter": "python",
   "pygments_lexer": "ipython3",
   "version": "3.12.2"
  }
 },
 "nbformat": 4,
 "nbformat_minor": 5
}
