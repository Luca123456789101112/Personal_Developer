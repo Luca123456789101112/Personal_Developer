{
 "cells": [
  {
   "cell_type": "code",
   "execution_count": 1,
   "id": "15b6f34e",
   "metadata": {},
   "outputs": [],
   "source": [
    "def add(n1,n2):\n",
    "    print(n1+n2)"
   ]
  },
  {
   "cell_type": "code",
   "execution_count": 2,
   "id": "6a174286",
   "metadata": {},
   "outputs": [
    {
     "name": "stdout",
     "output_type": "stream",
     "text": [
      "39\n"
     ]
    }
   ],
   "source": [
    "add(19,20)"
   ]
  },
  {
   "cell_type": "code",
   "execution_count": 3,
   "id": "73a449f3",
   "metadata": {},
   "outputs": [],
   "source": [
    "number1 = 10"
   ]
  },
  {
   "cell_type": "code",
   "execution_count": 5,
   "id": "c36ae888",
   "metadata": {},
   "outputs": [
    {
     "name": "stdout",
     "output_type": "stream",
     "text": [
      "Please provide a number 20\n"
     ]
    }
   ],
   "source": [
    "number2 =  input(\"Please provide a number \")"
   ]
  },
  {
   "cell_type": "code",
   "execution_count": 35,
   "id": "83f7d044",
   "metadata": {},
   "outputs": [],
   "source": [
    "def ad(n1,n2):\n",
    "    try:\n",
    "        print(n1+n2)\n",
    "    except:\n",
    "        print(\"You arent adding correctly\")\n",
    "    else:\n",
    "        print(n1+n2)"
   ]
  },
  {
   "cell_type": "code",
   "execution_count": 34,
   "id": "ea658bbb",
   "metadata": {},
   "outputs": [
    {
     "name": "stdout",
     "output_type": "stream",
     "text": [
      "Efe bro\n"
     ]
    }
   ],
   "source": [
    "ad(number1,number2)"
   ]
  },
  {
   "cell_type": "code",
   "execution_count": 27,
   "id": "77982c6e",
   "metadata": {},
   "outputs": [
    {
     "data": {
      "text/plain": [
       "'20'"
      ]
     },
     "execution_count": 27,
     "metadata": {},
     "output_type": "execute_result"
    }
   ],
   "source": [
    "number2"
   ]
  },
  {
   "cell_type": "code",
   "execution_count": 38,
   "id": "00ad8398",
   "metadata": {},
   "outputs": [
    {
     "name": "stdout",
     "output_type": "stream",
     "text": [
      "There was a OSErorr\n",
      "dasdjhaklsd\n"
     ]
    }
   ],
   "source": [
    "try:\n",
    "    f = open(\"testfile\", \"r\")\n",
    "    f.write(\"AAAAA\")\n",
    "except TypeError:\n",
    "    print(\"There was a type error!\")\n",
    "except OSError:\n",
    "    print(\"There was a OSErorr\")\n",
    "finally:\n",
    "    print(\"dasdjhaklsd\")"
   ]
  },
  {
   "cell_type": "code",
   "execution_count": 50,
   "id": "369106a1",
   "metadata": {},
   "outputs": [],
   "source": [
    "def ask_for_int():\n",
    "    \n",
    "    while True:\n",
    "        try:\n",
    "            result = int(input(\"Please Enter a Number: \"))\n",
    "            break\n",
    "        except:\n",
    "            print(\"Thats not a number\")\n",
    "            continue\n",
    "        finally:\n",
    "            print(\"End of function ask_for_int\")\n",
    "    \n",
    "    return result\n"
   ]
  },
  {
   "cell_type": "code",
   "execution_count": 52,
   "id": "340f4880",
   "metadata": {},
   "outputs": [
    {
     "name": "stdout",
     "output_type": "stream",
     "text": [
      "Please Enter a Number: kjldhfsd\n",
      "Thats not a number\n",
      "End of function ask_for_int\n",
      "Please Enter a Number: fsjkdhfsdf\n",
      "Thats not a number\n",
      "End of function ask_for_int\n",
      "Please Enter a Number: sdfhjnsjkdfh\n",
      "Thats not a number\n",
      "End of function ask_for_int\n",
      "Please Enter a Number: 20\n",
      "End of function ask_for_int\n"
     ]
    },
    {
     "data": {
      "text/plain": [
       "20"
      ]
     },
     "execution_count": 52,
     "metadata": {},
     "output_type": "execute_result"
    }
   ],
   "source": [
    "ask_for_int()"
   ]
  },
  {
   "cell_type": "markdown",
   "id": "d40de57e",
   "metadata": {},
   "source": []
  },
  {
   "cell_type": "code",
   "execution_count": 46,
   "id": "a28d11b6",
   "metadata": {},
   "outputs": [],
   "source": [
    "def add(n1,n2):\n",
    "    try:\n",
    "        print(n1+n2)\n",
    "    except n1 == str:\n",
    "        n1 = ask_for_int()\n",
    "    except n2 == str:\n",
    "        n2 = ask_for_int()\n",
    "        "
   ]
  },
  {
   "cell_type": "code",
   "execution_count": 47,
   "id": "65c98346",
   "metadata": {},
   "outputs": [
    {
     "ename": "TypeError",
     "evalue": "catching classes that do not inherit from BaseException is not allowed",
     "output_type": "error",
     "traceback": [
      "\u001b[1;31m---------------------------------------------------------------------------\u001b[0m",
      "\u001b[1;31mTypeError\u001b[0m                                 Traceback (most recent call last)",
      "\u001b[1;32m~\\AppData\\Local\\Temp\\ipykernel_22636\\3058767612.py\u001b[0m in \u001b[0;36madd\u001b[1;34m(n1, n2)\u001b[0m\n\u001b[0;32m      2\u001b[0m     \u001b[1;32mtry\u001b[0m\u001b[1;33m:\u001b[0m\u001b[1;33m\u001b[0m\u001b[1;33m\u001b[0m\u001b[0m\n\u001b[1;32m----> 3\u001b[1;33m         \u001b[0mprint\u001b[0m\u001b[1;33m(\u001b[0m\u001b[0mn1\u001b[0m\u001b[1;33m+\u001b[0m\u001b[0mn2\u001b[0m\u001b[1;33m)\u001b[0m\u001b[1;33m\u001b[0m\u001b[1;33m\u001b[0m\u001b[0m\n\u001b[0m\u001b[0;32m      4\u001b[0m     \u001b[1;32mexcept\u001b[0m \u001b[0mn1\u001b[0m \u001b[1;33m==\u001b[0m \u001b[0mstr\u001b[0m\u001b[1;33m:\u001b[0m\u001b[1;33m\u001b[0m\u001b[1;33m\u001b[0m\u001b[0m\n",
      "\u001b[1;31mTypeError\u001b[0m: unsupported operand type(s) for +: 'int' and 'str'",
      "\nDuring handling of the above exception, another exception occurred:\n",
      "\u001b[1;31mTypeError\u001b[0m                                 Traceback (most recent call last)",
      "\u001b[1;32m~\\AppData\\Local\\Temp\\ipykernel_22636\\4243398365.py\u001b[0m in \u001b[0;36m<module>\u001b[1;34m\u001b[0m\n\u001b[1;32m----> 1\u001b[1;33m \u001b[0madd\u001b[0m\u001b[1;33m(\u001b[0m\u001b[0mnumber1\u001b[0m\u001b[1;33m,\u001b[0m\u001b[0mnumber2\u001b[0m\u001b[1;33m)\u001b[0m\u001b[1;33m\u001b[0m\u001b[1;33m\u001b[0m\u001b[0m\n\u001b[0m",
      "\u001b[1;32m~\\AppData\\Local\\Temp\\ipykernel_22636\\3058767612.py\u001b[0m in \u001b[0;36madd\u001b[1;34m(n1, n2)\u001b[0m\n\u001b[0;32m      2\u001b[0m     \u001b[1;32mtry\u001b[0m\u001b[1;33m:\u001b[0m\u001b[1;33m\u001b[0m\u001b[1;33m\u001b[0m\u001b[0m\n\u001b[0;32m      3\u001b[0m         \u001b[0mprint\u001b[0m\u001b[1;33m(\u001b[0m\u001b[0mn1\u001b[0m\u001b[1;33m+\u001b[0m\u001b[0mn2\u001b[0m\u001b[1;33m)\u001b[0m\u001b[1;33m\u001b[0m\u001b[1;33m\u001b[0m\u001b[0m\n\u001b[1;32m----> 4\u001b[1;33m     \u001b[1;32mexcept\u001b[0m \u001b[0mn1\u001b[0m \u001b[1;33m==\u001b[0m \u001b[0mstr\u001b[0m\u001b[1;33m:\u001b[0m\u001b[1;33m\u001b[0m\u001b[1;33m\u001b[0m\u001b[0m\n\u001b[0m\u001b[0;32m      5\u001b[0m         \u001b[0mn1\u001b[0m \u001b[1;33m=\u001b[0m \u001b[0mask_for_int\u001b[0m\u001b[1;33m(\u001b[0m\u001b[1;33m)\u001b[0m\u001b[1;33m\u001b[0m\u001b[1;33m\u001b[0m\u001b[0m\n\u001b[0;32m      6\u001b[0m     \u001b[1;32mexcept\u001b[0m \u001b[0mn2\u001b[0m \u001b[1;33m==\u001b[0m \u001b[0mstr\u001b[0m\u001b[1;33m:\u001b[0m\u001b[1;33m\u001b[0m\u001b[1;33m\u001b[0m\u001b[0m\n",
      "\u001b[1;31mTypeError\u001b[0m: catching classes that do not inherit from BaseException is not allowed"
     ]
    }
   ],
   "source": [
    "add(number1,number2)"
   ]
  },
  {
   "cell_type": "code",
   "execution_count": 25,
   "id": "55a1c991",
   "metadata": {},
   "outputs": [],
   "source": [
    "def code():\n",
    "    password = list(input(\"Please enter your password \"))\n",
    "    return password"
   ]
  },
  {
   "cell_type": "code",
   "execution_count": 26,
   "id": "837214a6",
   "metadata": {},
   "outputs": [],
   "source": [
    "def check_code(code):\n",
    "    while True:\n",
    "        try:\n",
    "            tried_password = list(str(input(\"Please enter your password to enter \")))\n",
    "            break\n",
    "        except:\n",
    "            print(\"You didint enter your password\")\n",
    "    \n",
    "    if tried_password == code:\n",
    "        return \"Correct password\"\n",
    "    else:\n",
    "        return \"Incorrect Password\""
   ]
  },
  {
   "cell_type": "code",
   "execution_count": 27,
   "id": "ce3bc845",
   "metadata": {},
   "outputs": [
    {
     "name": "stdout",
     "output_type": "stream",
     "text": [
      "Please enter your password ljkdas\n",
      "Please enter your password to enter asjkdh\n",
      "Incorrect Password\n"
     ]
    }
   ],
   "source": [
    "code = code()\n",
    "check_code(code)"
   ]
  },
  {
   "cell_type": "code",
   "execution_count": null,
   "id": "ec85f4f5",
   "metadata": {},
   "outputs": [],
   "source": []
  },
  {
   "cell_type": "code",
   "execution_count": null,
   "id": "f9480e04",
   "metadata": {},
   "outputs": [],
   "source": []
  }
 ],
 "metadata": {
  "kernelspec": {
   "display_name": "Python 3 (ipykernel)",
   "language": "python",
   "name": "python3"
  },
  "language_info": {
   "codemirror_mode": {
    "name": "ipython",
    "version": 3
   },
   "file_extension": ".py",
   "mimetype": "text/x-python",
   "name": "python",
   "nbconvert_exporter": "python",
   "pygments_lexer": "ipython3",
   "version": "3.9.13"
  }
 },
 "nbformat": 4,
 "nbformat_minor": 5
}
