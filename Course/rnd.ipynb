{
 "cells": [
  {
   "cell_type": "code",
   "execution_count": 3,
   "id": "8511c13e",
   "metadata": {},
   "outputs": [
    {
     "data": {
      "text/plain": [
       "'C:\\\\Users\\\\Luca\\\\Desktop\\\\Developer\\\\Course'"
      ]
     },
     "execution_count": 3,
     "metadata": {},
     "output_type": "execute_result"
    }
   ],
   "source": [
    "import re\n",
    "import os\n",
    "\n",
    "os.getcwd()"
   ]
  },
  {
   "cell_type": "code",
   "execution_count": 7,
   "id": "1546ddf4",
   "metadata": {},
   "outputs": [],
   "source": [
    "text = \"hola soy luca mi numero de telefono es 2302-7179\""
   ]
  },
  {
   "cell_type": "code",
   "execution_count": 9,
   "id": "95f10e3c",
   "metadata": {},
   "outputs": [
    {
     "data": {
      "text/plain": [
       "re.Match"
      ]
     },
     "execution_count": 9,
     "metadata": {},
     "output_type": "execute_result"
    }
   ],
   "source": [
    "type(re.search(r\"\\d{4}-\\d{4}\",text))"
   ]
  },
  {
   "cell_type": "code",
   "execution_count": 16,
   "id": "5ad44f4d",
   "metadata": {},
   "outputs": [],
   "source": [
    "def func(text,pattern):\n",
    "    \n",
    "    if type(re.search(r\"\\d{4}-\\d{4}\",text)) == re.Match:\n",
    "        return \"gracias\""
   ]
  },
  {
   "cell_type": "code",
   "execution_count": 17,
   "id": "035302bb",
   "metadata": {},
   "outputs": [
    {
     "data": {
      "text/plain": [
       "'gracias'"
      ]
     },
     "execution_count": 17,
     "metadata": {},
     "output_type": "execute_result"
    }
   ],
   "source": [
    "func(text,r\"\\d{4}-\\d{4}\")"
   ]
  },
  {
   "cell_type": "code",
   "execution_count": null,
   "id": "3a3a00b6",
   "metadata": {},
   "outputs": [],
   "source": []
  }
 ],
 "metadata": {
  "kernelspec": {
   "display_name": "Python 3 (ipykernel)",
   "language": "python",
   "name": "python3"
  },
  "language_info": {
   "codemirror_mode": {
    "name": "ipython",
    "version": 3
   },
   "file_extension": ".py",
   "mimetype": "text/x-python",
   "name": "python",
   "nbconvert_exporter": "python",
   "pygments_lexer": "ipython3",
   "version": "3.9.13"
  }
 },
 "nbformat": 4,
 "nbformat_minor": 5
}
